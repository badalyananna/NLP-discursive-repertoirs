{
 "cells": [
  {
   "cell_type": "code",
   "execution_count": 1,
   "id": "ad40398e",
   "metadata": {},
   "outputs": [
    {
     "data": {
      "text/html": [
       "<div>\n",
       "<style scoped>\n",
       "    .dataframe tbody tr th:only-of-type {\n",
       "        vertical-align: middle;\n",
       "    }\n",
       "\n",
       "    .dataframe tbody tr th {\n",
       "        vertical-align: top;\n",
       "    }\n",
       "\n",
       "    .dataframe thead th {\n",
       "        text-align: right;\n",
       "    }\n",
       "</style>\n",
       "<table border=\"1\" class=\"dataframe\">\n",
       "  <thead>\n",
       "    <tr style=\"text-align: right;\">\n",
       "      <th></th>\n",
       "      <th>idtwitter</th>\n",
       "      <th>subj</th>\n",
       "      <th>opos</th>\n",
       "      <th>oneg</th>\n",
       "      <th>iro</th>\n",
       "      <th>lpos</th>\n",
       "      <th>lneg</th>\n",
       "      <th>top</th>\n",
       "      <th>text</th>\n",
       "    </tr>\n",
       "  </thead>\n",
       "  <tbody>\n",
       "    <tr>\n",
       "      <th>0</th>\n",
       "      <td>507074506880712705</td>\n",
       "      <td>0</td>\n",
       "      <td>0</td>\n",
       "      <td>0</td>\n",
       "      <td>0</td>\n",
       "      <td>0</td>\n",
       "      <td>0</td>\n",
       "      <td>2</td>\n",
       "      <td>Tra 5 minuti presentazione piano scuola del go...</td>\n",
       "    </tr>\n",
       "    <tr>\n",
       "      <th>1</th>\n",
       "      <td>507075789456961536</td>\n",
       "      <td>1</td>\n",
       "      <td>1</td>\n",
       "      <td>0</td>\n",
       "      <td>0</td>\n",
       "      <td>1</td>\n",
       "      <td>0</td>\n",
       "      <td>2</td>\n",
       "      <td>@matteorenzi: Alle 10 appuntamento su http://t...</td>\n",
       "    </tr>\n",
       "    <tr>\n",
       "      <th>2</th>\n",
       "      <td>507077511902425088</td>\n",
       "      <td>1</td>\n",
       "      <td>0</td>\n",
       "      <td>1</td>\n",
       "      <td>0</td>\n",
       "      <td>0</td>\n",
       "      <td>1</td>\n",
       "      <td>2</td>\n",
       "      <td>#labuonascuola gli #evangelisti #digitali non ...</td>\n",
       "    </tr>\n",
       "    <tr>\n",
       "      <th>3</th>\n",
       "      <td>507079183315787777</td>\n",
       "      <td>0</td>\n",
       "      <td>0</td>\n",
       "      <td>0</td>\n",
       "      <td>0</td>\n",
       "      <td>0</td>\n",
       "      <td>0</td>\n",
       "      <td>2</td>\n",
       "      <td>Riforma scuola Tutto il discorso di  Renzi su ...</td>\n",
       "    </tr>\n",
       "    <tr>\n",
       "      <th>4</th>\n",
       "      <td>507080190225563648</td>\n",
       "      <td>1</td>\n",
       "      <td>0</td>\n",
       "      <td>0</td>\n",
       "      <td>0</td>\n",
       "      <td>0</td>\n",
       "      <td>0</td>\n",
       "      <td>2</td>\n",
       "      <td>.@matteorenzi @MiurSocial #labuonascuola basta...</td>\n",
       "    </tr>\n",
       "  </tbody>\n",
       "</table>\n",
       "</div>"
      ],
      "text/plain": [
       "            idtwitter  subj  opos  oneg  iro  lpos  lneg  top  \\\n",
       "0  507074506880712705     0     0     0    0     0     0    2   \n",
       "1  507075789456961536     1     1     0    0     1     0    2   \n",
       "2  507077511902425088     1     0     1    0     0     1    2   \n",
       "3  507079183315787777     0     0     0    0     0     0    2   \n",
       "4  507080190225563648     1     0     0    0     0     0    2   \n",
       "\n",
       "                                                text  \n",
       "0  Tra 5 minuti presentazione piano scuola del go...  \n",
       "1  @matteorenzi: Alle 10 appuntamento su http://t...  \n",
       "2  #labuonascuola gli #evangelisti #digitali non ...  \n",
       "3  Riforma scuola Tutto il discorso di  Renzi su ...  \n",
       "4  .@matteorenzi @MiurSocial #labuonascuola basta...  "
      ]
     },
     "execution_count": 1,
     "metadata": {},
     "output_type": "execute_result"
    }
   ],
   "source": [
    "import pandas as pd\n",
    "\n",
    "df = pd.read_csv('test.csv')\n",
    "df.head()"
   ]
  },
  {
   "cell_type": "code",
   "execution_count": 2,
   "id": "d0d1b9dd",
   "metadata": {},
   "outputs": [],
   "source": [
    "import torch\n",
    "import torchmetrics"
   ]
  },
  {
   "cell_type": "code",
   "execution_count": 24,
   "id": "cfd000bf",
   "metadata": {},
   "outputs": [
    {
     "data": {
      "text/plain": [
       "tensor(0.)"
      ]
     },
     "execution_count": 24,
     "metadata": {},
     "output_type": "execute_result"
    }
   ],
   "source": [
    "acc = torchmetrics.F1Score(num_classes=1, average='macro', multiclass=False)\n",
    "pred = torch.tensor([[1], [0], [1], [0]])\n",
    "targ = torch.tensor([[0], [0], [0], [0]])\n",
    "acc(pred, targ)"
   ]
  },
  {
   "cell_type": "code",
   "execution_count": 25,
   "id": "f8050a6a",
   "metadata": {},
   "outputs": [
    {
     "data": {
      "text/plain": [
       "tensor(0.6667)"
      ]
     },
     "execution_count": 25,
     "metadata": {},
     "output_type": "execute_result"
    }
   ],
   "source": [
    "acc(1-pred,1-targ)"
   ]
  },
  {
   "cell_type": "code",
   "execution_count": 9,
   "id": "e83adbc3",
   "metadata": {},
   "outputs": [
    {
     "data": {
      "text/plain": [
       "({'accuracy_macro': tensor(0.8018),\n",
       "  'accuracy_micro': tensor(0.8018),\n",
       "  'accuracy_none': tensor([0.8130, 0.7995, 0.7950, 0.7945, 0.8090, 0.7995]),\n",
       "  'accuracy_weighted': tensor(0.8004),\n",
       "  'f1_macro': tensor(0.8236),\n",
       "  'f1_micro': tensor(0.8366),\n",
       "  'f1_none': tensor([0.7069, 0.8513, 0.8205, 0.8738, 0.8523, 0.8368]),\n",
       "  'f1_weighted': tensor(0.8381),\n",
       "  'precision_macro': tensor(0.8589),\n",
       "  'precision_micro': tensor(0.8779),\n",
       "  'precision_none': tensor([0.6623, 0.9104, 0.8495, 0.9443, 0.8938, 0.8931]),\n",
       "  'precision_weighted': tensor(0.8834),\n",
       "  'recall_macro': tensor(0.7943),\n",
       "  'recall_micro': tensor(0.7990),\n",
       "  'recall_none': tensor([0.7580, 0.7994, 0.7934, 0.8131, 0.8145, 0.7871]),\n",
       "  'recall_weighted': tensor(0.7990)},\n",
       " {'accuracy_macro': tensor(0.8018),\n",
       "  'accuracy_micro': tensor(0.8018),\n",
       "  'accuracy_none': tensor([0.8130, 0.7995, 0.7950, 0.7945, 0.8090, 0.7995]),\n",
       "  'accuracy_weighted': tensor(0.8041),\n",
       "  'f1_macro': tensor(0.7055),\n",
       "  'f1_micro': tensor(0.7481),\n",
       "  'f1_none': tensor([0.8627, 0.6922, 0.7611, 0.4468, 0.7298, 0.7401]),\n",
       "  'f1_weighted': tensor(0.7589),\n",
       "  'precision_macro': tensor(0.6519),\n",
       "  'precision_micro': tensor(0.6975),\n",
       "  'precision_none': tensor([0.8908, 0.6103, 0.7280, 0.3367, 0.6728, 0.6726]),\n",
       "  'precision_weighted': tensor(0.7258),\n",
       "  'recall_macro': tensor(0.7863),\n",
       "  'recall_micro': tensor(0.8066),\n",
       "  'recall_none': tensor([0.8363, 0.7996, 0.7973, 0.6640, 0.7975, 0.8228]),\n",
       "  'recall_weighted': tensor(0.8066)})"
      ]
     },
     "execution_count": 9,
     "metadata": {},
     "output_type": "execute_result"
    }
   ],
   "source": [
    "from torch import tensor\n",
    "n = [{'accuracy_macro': tensor(0.6583), 'accuracy_micro': tensor(0.6582), 'accuracy_none': tensor([0.7045, 0.7265, 0.6555, 0.5620, 0.6895, 0.6115]), 'accuracy_weighted': tensor(0.6497), 'f1_macro': tensor(0.6903), 'f1_micro': tensor(0.7132), 'f1_none': tensor([0.5386, 0.8244, 0.6692, 0.6784, 0.7871, 0.6437]), 'f1_weighted': tensor(0.7069), 'precision_macro': tensor(0.7542), 'precision_micro': tensor(0.7635), 'precision_none': tensor([0.5029, 0.7647, 0.7727, 0.9487, 0.7340, 0.8023]), 'precision_weighted': tensor(0.7888), 'recall_macro': tensor(0.6630), 'recall_micro': tensor(0.6692), 'recall_none': tensor([0.5798, 0.8942, 0.5902, 0.5280, 0.8485, 0.5375]), 'recall_weighted': tensor(0.6692)}, {'accuracy_macro': tensor(0.7076), 'accuracy_micro': tensor(0.7076), 'accuracy_none': tensor([0.7055, 0.6820, 0.7540, 0.6660, 0.6860, 0.7520]), 'accuracy_weighted': tensor(0.7040), 'f1_macro': tensor(0.7433), 'f1_micro': tensor(0.7566), 'f1_none': tensor([0.5826, 0.7531, 0.7977, 0.7773, 0.7437, 0.8052]), 'f1_weighted': tensor(0.7595), 'precision_macro': tensor(0.7866), 'precision_micro': tensor(0.8026), 'precision_none': tensor([0.5037, 0.8509, 0.7754, 0.9328, 0.8304, 0.8266]), 'precision_weighted': tensor(0.8231), 'recall_macro': tensor(0.7187), 'recall_micro': tensor(0.7155), 'recall_none': tensor([0.6908, 0.6755, 0.8213, 0.6663, 0.6733, 0.7848]), 'recall_weighted': tensor(0.7155)}, {'accuracy_macro': tensor(0.7517), 'accuracy_micro': tensor(0.7517), 'accuracy_none': tensor([0.7830, 0.7870, 0.7755, 0.6160, 0.7840, 0.7650]), 'accuracy_weighted': tensor(0.7413), 'f1_macro': tensor(0.7770), 'f1_micro': tensor(0.7870), 'f1_none': tensor([0.6583, 0.8426, 0.7975, 0.7279, 0.8318, 0.8042]), 'f1_weighted': tensor(0.7864), 'precision_macro': tensor(0.8482), 'precision_micro': tensor(0.8648), 'precision_none': tensor([0.6193, 0.8976, 0.8533, 0.9580, 0.8790, 0.8821]), 'precision_weighted': tensor(0.8769), 'recall_macro': tensor(0.7267), 'recall_micro': tensor(0.7220), 'recall_none': tensor([0.7025, 0.7939, 0.7485, 0.5869, 0.7894, 0.7389]), 'recall_weighted': tensor(0.7220)}, {'accuracy_macro': tensor(0.7728), 'accuracy_micro': tensor(0.7728), 'accuracy_none': tensor([0.7755, 0.8120, 0.7840, 0.6655, 0.8090, 0.7910]), 'accuracy_weighted': tensor(0.7670), 'f1_macro': tensor(0.8014), 'f1_micro': tensor(0.8118), 'f1_none': tensor([0.6753, 0.8650, 0.8107, 0.7713, 0.8552, 0.8309]), 'f1_weighted': tensor(0.8127), 'precision_macro': tensor(0.8407), 'precision_micro': tensor(0.8565), 'precision_none': tensor([0.5926, 0.8926, 0.8401, 0.9600, 0.8778, 0.8808]), 'precision_weighted': tensor(0.8719), 'recall_macro': tensor(0.7786), 'recall_micro': tensor(0.7716), 'recall_none': tensor([0.7849, 0.8391, 0.7832, 0.6446, 0.8337, 0.7864]), 'recall_weighted': tensor(0.7716)}, {'accuracy_macro': tensor(0.7981), 'accuracy_micro': tensor(0.7981), 'accuracy_none': tensor([0.7980, 0.8080, 0.7950, 0.7745, 0.8135, 0.7995]), 'accuracy_weighted': tensor(0.7970), 'f1_macro': tensor(0.8223), 'f1_micro': tensor(0.8347), 'f1_none': tensor([0.6985, 0.8589, 0.8228, 0.8599, 0.8563, 0.8373]), 'f1_weighted': tensor(0.8369), 'precision_macro': tensor(0.8508), 'precision_micro': tensor(0.8695), 'precision_none': tensor([0.6282, 0.9090, 0.8402, 0.9421, 0.8945, 0.8904]), 'precision_weighted': tensor(0.8783), 'recall_macro': tensor(0.8015), 'recall_micro': tensor(0.8025), 'recall_none': tensor([0.7866, 0.8141, 0.8061, 0.7909, 0.8211, 0.7902]), 'recall_weighted': tensor(0.8025)}, {'accuracy_macro': tensor(0.8018), 'accuracy_micro': tensor(0.8018), 'accuracy_none': tensor([0.8130, 0.7995, 0.7950, 0.7945, 0.8090, 0.7995]), 'accuracy_weighted': tensor(0.8004), 'f1_macro': tensor(0.8236), 'f1_micro': tensor(0.8366), 'f1_none': tensor([0.7069, 0.8513, 0.8205, 0.8738, 0.8523, 0.8368]), 'f1_weighted': tensor(0.8381), 'precision_macro': tensor(0.8589), 'precision_micro': tensor(0.8779), 'precision_none': tensor([0.6623, 0.9104, 0.8495, 0.9443, 0.8938, 0.8931]), 'precision_weighted': tensor(0.8834), 'recall_macro': tensor(0.7943), 'recall_micro': tensor(0.7990), 'recall_none': tensor([0.7580, 0.7994, 0.7934, 0.8131, 0.8145, 0.7871]), 'recall_weighted': tensor(0.7990)}]\n",
    "p = [{'accuracy_macro': tensor(0.6583), 'accuracy_micro': tensor(0.6582), 'accuracy_none': tensor([0.7045, 0.7265, 0.6555, 0.5620, 0.6895, 0.6115]), 'accuracy_weighted': tensor(0.6731), 'f1_macro': tensor(0.5197), 'f1_micro': tensor(0.5772), 'f1_none': tensor([0.7826, 0.3819, 0.6406, 0.3135, 0.4266, 0.5728]), 'f1_weighted': tensor(0.5918), 'precision_macro': tensor(0.5139), 'precision_micro': tensor(0.5261), 'precision_none': tensor([0.8097, 0.5265, 0.5592, 0.1949, 0.5298, 0.4631]), 'precision_weighted': tensor(0.5950), 'recall_macro': tensor(0.6191), 'recall_micro': tensor(0.6392), 'recall_none': tensor([0.7573, 0.2996, 0.7497, 0.8000, 0.3570, 0.7507]), 'recall_weighted': tensor(0.6392)}, {'accuracy_macro': tensor(0.7076), 'accuracy_micro': tensor(0.7076), 'accuracy_none': tensor([0.7055, 0.6820, 0.7540, 0.6660, 0.6860, 0.7520]), 'accuracy_weighted': tensor(0.7138), 'f1_macro': tensor(0.5996), 'f1_micro': tensor(0.6339), 'f1_none': tensor([0.7725, 0.5534, 0.6862, 0.3320, 0.5948, 0.6589]), 'f1_weighted': tensor(0.6587), 'precision_macro': tensor(0.5639), 'precision_micro': tensor(0.5836), 'precision_none': tensor([0.8446, 0.4581, 0.7183, 0.2213, 0.5105, 0.6303]), 'precision_weighted': tensor(0.6523), 'recall_macro': tensor(0.6890), 'recall_micro': tensor(0.6938), 'recall_none': tensor([0.7117, 0.6986, 0.6569, 0.6640, 0.7125, 0.6902]), 'recall_weighted': tensor(0.6938)}, {'accuracy_macro': tensor(0.7517), 'accuracy_micro': tensor(0.7517), 'accuracy_none': tensor([0.7830, 0.7870, 0.7755, 0.6160, 0.7840, 0.7650]), 'accuracy_weighted': tensor(0.7699), 'f1_macro': tensor(0.6688), 'f1_micro': tensor(0.7026), 'f1_none': tensor([0.8410, 0.6708, 0.7482, 0.3480, 0.6983, 0.7063]), 'f1_weighted': tensor(0.7311), 'precision_macro': tensor(0.6057), 'precision_micro': tensor(0.6242), 'precision_none': tensor([0.8664, 0.5945, 0.6919, 0.2209, 0.6369, 0.6236]), 'precision_weighted': tensor(0.6895), 'recall_macro': tensor(0.8013), 'recall_micro': tensor(0.8036), 'recall_none': tensor([0.8171, 0.7695, 0.8144, 0.8200, 0.7728, 0.8141]), 'recall_weighted': tensor(0.8036)}, {'accuracy_macro': tensor(0.7728), 'accuracy_micro': tensor(0.7728), 'accuracy_none': tensor([0.7755, 0.8120, 0.7840, 0.6655, 0.8090, 0.7910]), 'accuracy_weighted': tensor(0.7829), 'f1_macro': tensor(0.6818), 'f1_micro': tensor(0.7135), 'f1_none': tensor([0.8284, 0.6903, 0.7485, 0.3777, 0.7195, 0.7264]), 'f1_weighted': tensor(0.7377), 'precision_macro': tensor(0.6418), 'precision_micro': tensor(0.6610), 'precision_none': tensor([0.8944, 0.6446, 0.7152, 0.2461, 0.6853, 0.6655]), 'precision_weighted': tensor(0.7245), 'recall_macro': tensor(0.7781), 'recall_micro': tensor(0.7751), 'recall_none': tensor([0.7715, 0.7429, 0.7851, 0.8120, 0.7573, 0.7997]), 'recall_weighted': tensor(0.7751)}, {'accuracy_macro': tensor(0.7981), 'accuracy_micro': tensor(0.7981), 'accuracy_none': tensor([0.7980, 0.8080, 0.7950, 0.7745, 0.8135, 0.7995]), 'accuracy_weighted': tensor(0.7999), 'f1_macro': tensor(0.7000), 'f1_micro': tensor(0.7407), 'f1_none': tensor([0.8481, 0.6995, 0.7568, 0.4225, 0.7345, 0.7388]), 'f1_weighted': tensor(0.7535), 'precision_macro': tensor(0.6544), 'precision_micro': tensor(0.6969), 'precision_none': tensor([0.8988, 0.6261, 0.7359, 0.3107, 0.6807, 0.6742]), 'precision_weighted': tensor(0.7318), 'recall_macro': tensor(0.7748), 'recall_micro': tensor(0.7904), 'recall_none': tensor([0.8028, 0.7926, 0.7790, 0.6600, 0.7975, 0.8170]), 'recall_weighted': tensor(0.7904)}, {'accuracy_macro': tensor(0.8018), 'accuracy_micro': tensor(0.8018), 'accuracy_none': tensor([0.8130, 0.7995, 0.7950, 0.7945, 0.8090, 0.7995]), 'accuracy_weighted': tensor(0.8041), 'f1_macro': tensor(0.7055), 'f1_micro': tensor(0.7481), 'f1_none': tensor([0.8627, 0.6922, 0.7611, 0.4468, 0.7298, 0.7401]), 'f1_weighted': tensor(0.7589), 'precision_macro': tensor(0.6519), 'precision_micro': tensor(0.6975), 'precision_none': tensor([0.8908, 0.6103, 0.7280, 0.3367, 0.6728, 0.6726]), 'precision_weighted': tensor(0.7258), 'recall_macro': tensor(0.7863), 'recall_micro': tensor(0.8066), 'recall_none': tensor([0.8363, 0.7996, 0.7973, 0.6640, 0.7975, 0.8228]), 'recall_weighted': tensor(0.8066)}]\n",
    "\n",
    "n[5], p[5]"
   ]
  },
  {
   "cell_type": "code",
   "execution_count": 35,
   "id": "5f13affa",
   "metadata": {},
   "outputs": [
    {
     "data": {
      "text/plain": [
       "67.5"
      ]
     },
     "execution_count": 35,
     "metadata": {},
     "output_type": "execute_result"
    }
   ],
   "source": [
    "(42+93)/2"
   ]
  },
  {
   "cell_type": "code",
   "execution_count": 36,
   "id": "824714a4",
   "metadata": {},
   "outputs": [
    {
     "data": {
      "text/plain": [
       "tensor([0.0000, 0.5000])"
      ]
     },
     "execution_count": 36,
     "metadata": {},
     "output_type": "execute_result"
    }
   ],
   "source": [
    "acc = torchmetrics.F1Score(num_classes=2, average='none')\n",
    "\n",
    "ml_preds  = torch.tensor([[0.2, 0.7], [0.2, 0.6], [0.4, 0.9]])\n",
    "ml_target = torch.tensor([[0, 0], [0, 0], [1, 1]])\n",
    "#ml_preds  = torch.tensor([[0.2, 0.8, 0.9], [0.5, 0.6, 0.1], [0.3, 0.1, 0.1]])\n",
    "#ml_target = torch.tensor([[0, 1, 1], [1, 0, 0], [0, 0, 0]])\n",
    "acc(ml_preds, ml_target)"
   ]
  },
  {
   "cell_type": "code",
   "execution_count": 37,
   "id": "2daaddc8",
   "metadata": {},
   "outputs": [
    {
     "data": {
      "text/plain": [
       "tensor([0.8000, 0.0000])"
      ]
     },
     "execution_count": 37,
     "metadata": {},
     "output_type": "execute_result"
    }
   ],
   "source": [
    "acc(1-ml_preds, 1-ml_target)"
   ]
  },
  {
   "cell_type": "code",
   "execution_count": 19,
   "id": "312f05d3",
   "metadata": {},
   "outputs": [
    {
     "data": {
      "text/plain": [
       "array([0.3, 0.1, 0.2], dtype=float32)"
      ]
     },
     "execution_count": 19,
     "metadata": {},
     "output_type": "execute_result"
    }
   ],
   "source": []
  },
  {
   "cell_type": "code",
   "execution_count": 48,
   "id": "c67cbad8",
   "metadata": {},
   "outputs": [
    {
     "data": {
      "text/plain": [
       "0.5"
      ]
     },
     "execution_count": 48,
     "metadata": {},
     "output_type": "execute_result"
    }
   ],
   "source": [
    "from sklearn.metrics import f1_score\n",
    "ml_preds  = torch.tensor([1, 1, 1])\n",
    "ml_target = torch.tensor([0, 0, 1])\n",
    "f1_score(ml_preds.numpy(), ml_target.numpy(), pos_label=1)"
   ]
  },
  {
   "cell_type": "code",
   "execution_count": 49,
   "id": "8506af5f",
   "metadata": {},
   "outputs": [
    {
     "data": {
      "text/plain": [
       "0.0"
      ]
     },
     "execution_count": 49,
     "metadata": {},
     "output_type": "execute_result"
    }
   ],
   "source": [
    "f1_score(ml_preds.numpy(), ml_target.numpy(), pos_label=0)"
   ]
  },
  {
   "cell_type": "code",
   "execution_count": 3,
   "id": "260326c4",
   "metadata": {},
   "outputs": [
    {
     "data": {
      "text/plain": [
       "tensor([0.6899, 0.7326, 0.7550, 0.6549, 0.7571, 0.7681])"
      ]
     },
     "execution_count": 3,
     "metadata": {},
     "output_type": "execute_result"
    }
   ],
   "source": [
    "a = torch.tensor([0.6958, 0.5843, 0.6672, 0.3805, 0.6305, 0.6678])\n",
    "b = torch.tensor([0.6840, 0.8810, 0.8428, 0.9292, 0.8836, 0.8684])\n",
    "(a + b) / 2"
   ]
  }
 ],
 "metadata": {
  "kernelspec": {
   "display_name": "Python 3 (ipykernel)",
   "language": "python",
   "name": "python3"
  },
  "language_info": {
   "codemirror_mode": {
    "name": "ipython",
    "version": 3
   },
   "file_extension": ".py",
   "mimetype": "text/x-python",
   "name": "python",
   "nbconvert_exporter": "python",
   "pygments_lexer": "ipython3",
   "version": "3.8.10"
  }
 },
 "nbformat": 4,
 "nbformat_minor": 5
}
