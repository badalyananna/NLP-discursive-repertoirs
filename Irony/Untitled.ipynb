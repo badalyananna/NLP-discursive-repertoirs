{
 "cells": [
  {
   "cell_type": "markdown",
   "id": "30fc9a59",
   "metadata": {},
   "source": [
    "import pandas as pd\n",
    "\n",
    "df = pd.read_csv('test.csv')\n",
    "df.head()"
   ]
  },
  {
   "cell_type": "code",
   "execution_count": 3,
   "id": "d0d1b9dd",
   "metadata": {},
   "outputs": [],
   "source": [
    "import torch\n",
    "import torchmetrics"
   ]
  },
  {
   "cell_type": "code",
   "execution_count": 36,
   "id": "824714a4",
   "metadata": {},
   "outputs": [
    {
     "data": {
      "text/plain": [
       "tensor([0.0000, 0.5000])"
      ]
     },
     "execution_count": 36,
     "metadata": {},
     "output_type": "execute_result"
    }
   ],
   "source": [
    "acc = torchmetrics.F1Score(num_classes=2, average='none')\n",
    "\n",
    "ml_preds  = torch.tensor([[0.2, 0.7], [0.2, 0.6], [0.4, 0.9]])\n",
    "ml_target = torch.tensor([[0, 0], [0, 0], [1, 1]])\n",
    "#ml_preds  = torch.tensor([[0.2, 0.8, 0.9], [0.5, 0.6, 0.1], [0.3, 0.1, 0.1]])\n",
    "#ml_target = torch.tensor([[0, 1, 1], [1, 0, 0], [0, 0, 0]])\n",
    "acc(ml_preds, ml_target)"
   ]
  },
  {
   "cell_type": "code",
   "execution_count": 37,
   "id": "2daaddc8",
   "metadata": {},
   "outputs": [
    {
     "data": {
      "text/plain": [
       "tensor([0.8000, 0.0000])"
      ]
     },
     "execution_count": 37,
     "metadata": {},
     "output_type": "execute_result"
    }
   ],
   "source": [
    "acc(1-ml_preds, 1-ml_target)"
   ]
  },
  {
   "cell_type": "code",
   "execution_count": 19,
   "id": "312f05d3",
   "metadata": {},
   "outputs": [
    {
     "data": {
      "text/plain": [
       "array([0.3, 0.1, 0.2], dtype=float32)"
      ]
     },
     "execution_count": 19,
     "metadata": {},
     "output_type": "execute_result"
    }
   ],
   "source": []
  },
  {
   "cell_type": "code",
   "execution_count": 48,
   "id": "c67cbad8",
   "metadata": {},
   "outputs": [
    {
     "data": {
      "text/plain": [
       "0.5"
      ]
     },
     "execution_count": 48,
     "metadata": {},
     "output_type": "execute_result"
    }
   ],
   "source": [
    "from sklearn.metrics import f1_score\n",
    "ml_preds  = torch.tensor([1, 1, 1])\n",
    "ml_target = torch.tensor([0, 0, 1])\n",
    "f1_score(ml_preds.numpy(), ml_target.numpy(), pos_label=1)"
   ]
  },
  {
   "cell_type": "code",
   "execution_count": 49,
   "id": "8506af5f",
   "metadata": {},
   "outputs": [
    {
     "data": {
      "text/plain": [
       "0.0"
      ]
     },
     "execution_count": 49,
     "metadata": {},
     "output_type": "execute_result"
    }
   ],
   "source": [
    "f1_score(ml_preds.numpy(), ml_target.numpy(), pos_label=0)"
   ]
  }
 ],
 "metadata": {
  "kernelspec": {
   "display_name": "Python 3 (ipykernel)",
   "language": "python",
   "name": "python3"
  },
  "language_info": {
   "codemirror_mode": {
    "name": "ipython",
    "version": 3
   },
   "file_extension": ".py",
   "mimetype": "text/x-python",
   "name": "python",
   "nbconvert_exporter": "python",
   "pygments_lexer": "ipython3",
   "version": "3.8.10"
  }
 },
 "nbformat": 4,
 "nbformat_minor": 5
}
