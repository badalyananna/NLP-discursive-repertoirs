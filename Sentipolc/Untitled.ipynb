{
 "cells": [
  {
   "cell_type": "code",
   "execution_count": 1,
   "id": "ad40398e",
   "metadata": {},
   "outputs": [
    {
     "data": {
      "text/html": [
       "<div>\n",
       "<style scoped>\n",
       "    .dataframe tbody tr th:only-of-type {\n",
       "        vertical-align: middle;\n",
       "    }\n",
       "\n",
       "    .dataframe tbody tr th {\n",
       "        vertical-align: top;\n",
       "    }\n",
       "\n",
       "    .dataframe thead th {\n",
       "        text-align: right;\n",
       "    }\n",
       "</style>\n",
       "<table border=\"1\" class=\"dataframe\">\n",
       "  <thead>\n",
       "    <tr style=\"text-align: right;\">\n",
       "      <th></th>\n",
       "      <th>idtwitter</th>\n",
       "      <th>subj</th>\n",
       "      <th>opos</th>\n",
       "      <th>oneg</th>\n",
       "      <th>iro</th>\n",
       "      <th>lpos</th>\n",
       "      <th>lneg</th>\n",
       "      <th>top</th>\n",
       "      <th>text</th>\n",
       "    </tr>\n",
       "  </thead>\n",
       "  <tbody>\n",
       "    <tr>\n",
       "      <th>0</th>\n",
       "      <td>507074506880712705</td>\n",
       "      <td>0</td>\n",
       "      <td>0</td>\n",
       "      <td>0</td>\n",
       "      <td>0</td>\n",
       "      <td>0</td>\n",
       "      <td>0</td>\n",
       "      <td>2</td>\n",
       "      <td>Tra 5 minuti presentazione piano scuola del go...</td>\n",
       "    </tr>\n",
       "    <tr>\n",
       "      <th>1</th>\n",
       "      <td>507075789456961536</td>\n",
       "      <td>1</td>\n",
       "      <td>1</td>\n",
       "      <td>0</td>\n",
       "      <td>0</td>\n",
       "      <td>1</td>\n",
       "      <td>0</td>\n",
       "      <td>2</td>\n",
       "      <td>@matteorenzi: Alle 10 appuntamento su http://t...</td>\n",
       "    </tr>\n",
       "    <tr>\n",
       "      <th>2</th>\n",
       "      <td>507077511902425088</td>\n",
       "      <td>1</td>\n",
       "      <td>0</td>\n",
       "      <td>1</td>\n",
       "      <td>0</td>\n",
       "      <td>0</td>\n",
       "      <td>1</td>\n",
       "      <td>2</td>\n",
       "      <td>#labuonascuola gli #evangelisti #digitali non ...</td>\n",
       "    </tr>\n",
       "    <tr>\n",
       "      <th>3</th>\n",
       "      <td>507079183315787777</td>\n",
       "      <td>0</td>\n",
       "      <td>0</td>\n",
       "      <td>0</td>\n",
       "      <td>0</td>\n",
       "      <td>0</td>\n",
       "      <td>0</td>\n",
       "      <td>2</td>\n",
       "      <td>Riforma scuola Tutto il discorso di  Renzi su ...</td>\n",
       "    </tr>\n",
       "    <tr>\n",
       "      <th>4</th>\n",
       "      <td>507080190225563648</td>\n",
       "      <td>1</td>\n",
       "      <td>0</td>\n",
       "      <td>0</td>\n",
       "      <td>0</td>\n",
       "      <td>0</td>\n",
       "      <td>0</td>\n",
       "      <td>2</td>\n",
       "      <td>.@matteorenzi @MiurSocial #labuonascuola basta...</td>\n",
       "    </tr>\n",
       "  </tbody>\n",
       "</table>\n",
       "</div>"
      ],
      "text/plain": [
       "            idtwitter  subj  opos  oneg  iro  lpos  lneg  top  \\\n",
       "0  507074506880712705     0     0     0    0     0     0    2   \n",
       "1  507075789456961536     1     1     0    0     1     0    2   \n",
       "2  507077511902425088     1     0     1    0     0     1    2   \n",
       "3  507079183315787777     0     0     0    0     0     0    2   \n",
       "4  507080190225563648     1     0     0    0     0     0    2   \n",
       "\n",
       "                                                text  \n",
       "0  Tra 5 minuti presentazione piano scuola del go...  \n",
       "1  @matteorenzi: Alle 10 appuntamento su http://t...  \n",
       "2  #labuonascuola gli #evangelisti #digitali non ...  \n",
       "3  Riforma scuola Tutto il discorso di  Renzi su ...  \n",
       "4  .@matteorenzi @MiurSocial #labuonascuola basta...  "
      ]
     },
     "execution_count": 1,
     "metadata": {},
     "output_type": "execute_result"
    }
   ],
   "source": [
    "import pandas as pd\n",
    "\n",
    "df = pd.read_csv('test.csv')\n",
    "df.head()"
   ]
  },
  {
   "cell_type": "code",
   "execution_count": 2,
   "id": "d0d1b9dd",
   "metadata": {},
   "outputs": [],
   "source": [
    "import torch\n",
    "import torchmetrics"
   ]
  },
  {
   "cell_type": "code",
   "execution_count": 24,
   "id": "cfd000bf",
   "metadata": {},
   "outputs": [
    {
     "data": {
      "text/plain": [
       "tensor(0.)"
      ]
     },
     "execution_count": 24,
     "metadata": {},
     "output_type": "execute_result"
    }
   ],
   "source": [
    "acc = torchmetrics.F1Score(num_classes=1, average='macro', multiclass=False)\n",
    "pred = torch.tensor([[1], [0], [1], [0]])\n",
    "targ = torch.tensor([[0], [0], [0], [0]])\n",
    "acc(pred, targ)"
   ]
  },
  {
   "cell_type": "code",
   "execution_count": 25,
   "id": "f8050a6a",
   "metadata": {},
   "outputs": [
    {
     "data": {
      "text/plain": [
       "tensor(0.6667)"
      ]
     },
     "execution_count": 25,
     "metadata": {},
     "output_type": "execute_result"
    }
   ],
   "source": [
    "acc(1-pred,1-targ)"
   ]
  },
  {
   "cell_type": "code",
   "execution_count": 12,
   "id": "c269d4f1",
   "metadata": {},
   "outputs": [
    {
     "data": {
      "text/plain": [
       "{'accuracy_macro': tensor(0.6911),\n",
       " 'accuracy_micro': tensor(0.6911),\n",
       " 'accuracy_none': tensor([0.9426, 0.6977, 0.6362, 0.6516, 0.7659, 0.6127, 0.6394, 0.7976, 0.8093,\n",
       "         0.5906, 0.5567, 0.6661, 0.6959, 0.7248, 0.6019, 0.7298, 0.7402, 0.7948,\n",
       "         0.7763, 0.5581, 0.5653, 0.7162, 0.6258]),\n",
       " 'accuracy_weighted': tensor(0.6542),\n",
       " 'f1_macro': tensor(0.2164),\n",
       " 'f1_micro': tensor(0.2562),\n",
       " 'f1_none': tensor([0.0451, 0.1323, 0.4790, 0.1066, 0.0848, 0.2057, 0.1231, 0.5905, 0.1245,\n",
       "         0.1564, 0.3164, 0.0933, 0.1427, 0.2101, 0.2042, 0.1048, 0.3837, 0.2606,\n",
       "         0.0850, 0.1391, 0.4755, 0.2189, 0.2959]),\n",
       " 'f1_weighted': tensor(0.3421),\n",
       " 'precision_macro': tensor(0.1422),\n",
       " 'precision_micro': tensor(0.1573),\n",
       " 'precision_none': tensor([0.0234, 0.0721, 0.3846, 0.0576, 0.0452, 0.1222, 0.0677, 0.4872, 0.0699,\n",
       "         0.0909, 0.2064, 0.0502, 0.0791, 0.1282, 0.1195, 0.0565, 0.2521, 0.1594,\n",
       "         0.0452, 0.0775, 0.3594, 0.1310, 0.1849]),\n",
       " 'precision_weighted': tensor(0.2479),\n",
       " 'recall_macro': tensor(0.6828),\n",
       " 'recall_micro': tensor(0.6886),\n",
       " 'recall_none': tensor([0.6000, 0.7969, 0.6346, 0.7077, 0.6857, 0.6491, 0.6747, 0.7494, 0.5660,\n",
       "         0.5600, 0.6776, 0.6552, 0.7273, 0.5827, 0.7019, 0.7143, 0.8027, 0.7143,\n",
       "         0.7188, 0.6752, 0.7021, 0.6667, 0.7404]),\n",
       " 'recall_weighted': tensor(0.6886)}"
      ]
     },
     "execution_count": 12,
     "metadata": {},
     "output_type": "execute_result"
    }
   ],
   "source": [
    "a = [{'accuracy_macro': tensor(0.6739), 'accuracy_micro': tensor(0.6739), 'accuracy_none': tensor([0.9977, 0.6141, 0.4808, 0.6439, 0.8400, 0.3461, 0.5807, 0.8138, 0.7917,\n",
    "        0.5508, 0.5215, 0.8310, 0.7781, 0.5124, 0.7592, 0.8260, 0.7113, 0.6972,\n",
    "        0.7578, 0.6774, 0.6923, 0.6299, 0.4455]), 'accuracy_weighted': tensor(0.6241), 'f1_macro': tensor(0.1651), 'f1_micro': tensor(0.2021), 'f1_none': tensor([0.0000, 0.0915, 0.4286, 0.0984, 0.0684, 0.1641, 0.0990, 0.5371, 0.0907,\n",
    "        0.1591, 0.2820, 0.0459, 0.1024, 0.1577, 0.1711, 0.0898, 0.2491, 0.1410,\n",
    "        0.0463, 0.1439, 0.2181, 0.1851, 0.2278]), 'f1_weighted': tensor(0.2602), 'precision_macro': tensor(0.1196), 'precision_micro': tensor(0.1246), 'precision_none': tensor([0.0000, 0.0491, 0.3018, 0.0532, 0.0377, 0.0910, 0.0539, 0.5207, 0.0507,\n",
    "        0.0911, 0.1825, 0.0269, 0.0596, 0.0884, 0.1141, 0.0508, 0.1688, 0.0823,\n",
    "        0.0245, 0.0837, 0.3800, 0.1065, 0.1337]), 'precision_weighted': tensor(0.2249), 'recall_macro': tensor(0.5049), 'recall_micro': tensor(0.5347), 'recall_none': tensor([0.0000, 0.6719, 0.7393, 0.6615, 0.3714, 0.8304, 0.6145, 0.5545, 0.4340,\n",
    "        0.6267, 0.6209, 0.1552, 0.3636, 0.7266, 0.3416, 0.3878, 0.4753, 0.4911,\n",
    "        0.4062, 0.5128, 0.1530, 0.7045, 0.7702]), 'recall_weighted': tensor(0.5347)}, {'accuracy_macro': tensor(0.6513), 'accuracy_micro': tensor(0.6513), 'accuracy_none': tensor([0.9544, 0.7212, 0.5716, 0.6213, 0.7741, 0.7189, 0.4596, 0.8242, 0.7840,\n",
    "        0.5888, 0.5522, 0.6308, 0.5477, 0.6023, 0.5016, 0.6606, 0.5924, 0.6945,\n",
    "        0.6620, 0.6692, 0.5441, 0.7451, 0.5599]), 'accuracy_weighted': tensor(0.6196), 'f1_macro': tensor(0.1964), 'f1_micro': tensor(0.2298), 'f1_none': tensor([0.0381, 0.1122, 0.4674, 0.0970, 0.0672, 0.1943, 0.0994, 0.5977, 0.1148,\n",
    "        0.1636, 0.2876, 0.0747, 0.1102, 0.1729, 0.1750, 0.0897, 0.2909, 0.2009,\n",
    "        0.0603, 0.1547, 0.4501, 0.2295, 0.2688]), 'f1_weighted': tensor(0.3217), 'precision_macro': tensor(0.1298), 'precision_micro': tensor(0.1386), 'precision_none': tensor([0.0200, 0.0618, 0.3475, 0.0521, 0.0359, 0.1248, 0.0530, 0.5392, 0.0637,\n",
    "        0.0949, 0.1894, 0.0400, 0.0592, 0.0995, 0.0995, 0.0477, 0.1764, 0.1158,\n",
    "        0.0314, 0.0895, 0.3402, 0.1400, 0.1632]), 'precision_weighted': tensor(0.2344), 'recall_macro': tensor(0.6566), 'recall_micro': tensor(0.6736), 'recall_none': tensor([0.4000, 0.6094, 0.7136, 0.6923, 0.5143, 0.4386, 0.7952, 0.6705, 0.5849,\n",
    "        0.5933, 0.5970, 0.5690, 0.8052, 0.6619, 0.7267, 0.7551, 0.8296, 0.7589,\n",
    "        0.7500, 0.5726, 0.6651, 0.6364, 0.7617]), 'recall_weighted': tensor(0.6736)}, {'accuracy_macro': tensor(0.6876), 'accuracy_micro': tensor(0.6876), 'accuracy_none': tensor([0.9489, 0.7207, 0.6195, 0.7167, 0.8075, 0.5743, 0.5996, 0.8147, 0.8129,\n",
    "        0.5698, 0.5770, 0.6787, 0.6638, 0.6968, 0.5766, 0.6900, 0.6200, 0.7460,\n",
    "        0.7370, 0.6954, 0.5572, 0.7817, 0.6105]), 'accuracy_weighted': tensor(0.6465), 'f1_macro': tensor(0.2089), 'f1_micro': tensor(0.2485), 'f1_none': tensor([0.0342, 0.1320, 0.4684, 0.1081, 0.0819, 0.2003, 0.1210, 0.6004, 0.1266,\n",
    "        0.1605, 0.3178, 0.0778, 0.1308, 0.2097, 0.2039, 0.0878, 0.3044, 0.2301,\n",
    "        0.0732, 0.1617, 0.4438, 0.2465, 0.2841]), 'f1_weighted': tensor(0.3314), 'precision_macro': tensor(0.1380), 'precision_micro': tensor(0.1526), 'precision_none': tensor([0.0179, 0.0725, 0.3706, 0.0596, 0.0443, 0.1172, 0.0659, 0.5176, 0.0713,\n",
    "        0.0925, 0.2102, 0.0421, 0.0719, 0.1254, 0.1181, 0.0469, 0.1866, 0.1359,\n",
    "        0.0386, 0.0946, 0.3427, 0.1552, 0.1765]), 'precision_weighted': tensor(0.2426), 'recall_macro': tensor(0.6509), 'recall_micro': tensor(0.6685), 'recall_none': tensor([0.4000, 0.7344, 0.6364, 0.5846, 0.5429, 0.6901, 0.7349, 0.7146, 0.5660,\n",
    "        0.6067, 0.6507, 0.5172, 0.7273, 0.6403, 0.7453, 0.6735, 0.8251, 0.7500,\n",
    "        0.7188, 0.5556, 0.6296, 0.5985, 0.7277]), 'recall_weighted': tensor(0.6685)}, {'accuracy_macro': tensor(0.7013), 'accuracy_micro': tensor(0.7013), 'accuracy_none': tensor([0.9566, 0.7804, 0.5743, 0.7863, 0.8233, 0.6060, 0.5097, 0.8202, 0.8052,\n",
    "        0.6195, 0.6146, 0.6719, 0.6837, 0.6652, 0.6060, 0.7302, 0.6774, 0.7695,\n",
    "        0.7388, 0.7406, 0.5418, 0.7714, 0.6371]), 'accuracy_weighted': tensor(0.6521), 'f1_macro': tensor(0.2144), 'f1_micro': tensor(0.2597), 'f1_none': tensor([0.0400, 0.1413, 0.4778, 0.1289, 0.0886, 0.2073, 0.1085, 0.6036, 0.1186,\n",
    "        0.1546, 0.3149, 0.0902, 0.1358, 0.2024, 0.2015, 0.1023, 0.3413, 0.2500,\n",
    "        0.0737, 0.1633, 0.4624, 0.2356, 0.2888]), 'f1_weighted': tensor(0.3388), 'precision_macro': tensor(0.1413), 'precision_micro': tensor(0.1606), 'precision_none': tensor([0.0211, 0.0797, 0.3530, 0.0732, 0.0482, 0.1227, 0.0582, 0.5288, 0.0665,\n",
    "        0.0910, 0.2154, 0.0486, 0.0750, 0.1190, 0.1182, 0.0552, 0.2149, 0.1496,\n",
    "        0.0389, 0.0984, 0.3447, 0.1472, 0.1823]), 'precision_weighted': tensor(0.2445), 'recall_macro': tensor(0.6442), 'recall_micro': tensor(0.6785), 'recall_none': tensor([0.4000, 0.6250, 0.7393, 0.5385, 0.5429, 0.6667, 0.7952, 0.7030, 0.5472,\n",
    "        0.5133, 0.5851, 0.6207, 0.7143, 0.6763, 0.6832, 0.6939, 0.8296, 0.7589,\n",
    "        0.7188, 0.4786, 0.7021, 0.5909, 0.6936]), 'recall_weighted': tensor(0.6785)}, {'accuracy_macro': tensor(0.6911), 'accuracy_micro': tensor(0.6911), 'accuracy_none': tensor([0.9426, 0.6977, 0.6362, 0.6516, 0.7659, 0.6127, 0.6394, 0.7976, 0.8093,\n",
    "        0.5906, 0.5567, 0.6661, 0.6959, 0.7248, 0.6019, 0.7298, 0.7402, 0.7948,\n",
    "        0.7763, 0.5581, 0.5653, 0.7162, 0.6258]), 'accuracy_weighted': tensor(0.6542), 'f1_macro': tensor(0.2164), 'f1_micro': tensor(0.2562), 'f1_none': tensor([0.0451, 0.1323, 0.4790, 0.1066, 0.0848, 0.2057, 0.1231, 0.5905, 0.1245,\n",
    "        0.1564, 0.3164, 0.0933, 0.1427, 0.2101, 0.2042, 0.1048, 0.3837, 0.2606,\n",
    "        0.0850, 0.1391, 0.4755, 0.2189, 0.2959]), 'f1_weighted': tensor(0.3421), 'precision_macro': tensor(0.1422), 'precision_micro': tensor(0.1573), 'precision_none': tensor([0.0234, 0.0721, 0.3846, 0.0576, 0.0452, 0.1222, 0.0677, 0.4872, 0.0699,\n",
    "        0.0909, 0.2064, 0.0502, 0.0791, 0.1282, 0.1195, 0.0565, 0.2521, 0.1594,\n",
    "        0.0452, 0.0775, 0.3594, 0.1310, 0.1849]), 'precision_weighted': tensor(0.2479), 'recall_macro': tensor(0.6828), 'recall_micro': tensor(0.6886), 'recall_none': tensor([0.6000, 0.7969, 0.6346, 0.7077, 0.6857, 0.6491, 0.6747, 0.7494, 0.5660,\n",
    "        0.5600, 0.6776, 0.6552, 0.7273, 0.5827, 0.7019, 0.7143, 0.8027, 0.7143,\n",
    "        0.7188, 0.6752, 0.7021, 0.6667, 0.7404]), 'recall_weighted': tensor(0.6886)}, {'accuracy_macro': tensor(0.7078), 'accuracy_micro': tensor(0.7078), 'accuracy_none': tensor([0.9331, 0.7072, 0.6521, 0.6756, 0.8129, 0.6584, 0.6308, 0.8134, 0.7641,\n",
    "        0.6390, 0.6123, 0.6701, 0.6896, 0.7180, 0.6304, 0.7691, 0.7126, 0.7347,\n",
    "        0.7677, 0.7076, 0.5852, 0.7447, 0.6498]), 'accuracy_weighted': tensor(0.6750), 'f1_macro': tensor(0.2169), 'f1_micro': tensor(0.2584), 'f1_none': tensor([0.0390, 0.1360, 0.4846, 0.1047, 0.0841, 0.2075, 0.1224, 0.5994, 0.1122,\n",
    "        0.1668, 0.3244, 0.0920, 0.1358, 0.2200, 0.2119, 0.1113, 0.3740, 0.2327,\n",
    "        0.0821, 0.1586, 0.4657, 0.2292, 0.2948]), 'f1_weighted': tensor(0.3435), 'precision_macro': tensor(0.1449), 'precision_micro': tensor(0.1607), 'precision_none': tensor([0.0201, 0.0743, 0.3974, 0.0570, 0.0456, 0.1264, 0.0672, 0.5150, 0.0617,\n",
    "        0.0989, 0.2203, 0.0496, 0.0752, 0.1331, 0.1254, 0.0608, 0.2396, 0.1363,\n",
    "        0.0436, 0.0936, 0.3646, 0.1398, 0.1875]), 'precision_weighted': tensor(0.2552), 'recall_macro': tensor(0.6576), 'recall_micro': tensor(0.6591), 'recall_none': tensor([0.6000, 0.7969, 0.6209, 0.6462, 0.5429, 0.5789, 0.6867, 0.7169, 0.6226,\n",
    "        0.5333, 0.6149, 0.6379, 0.7013, 0.6331, 0.6832, 0.6531, 0.8520, 0.7946,\n",
    "        0.7188, 0.5214, 0.6441, 0.6364, 0.6894]), 'recall_weighted': tensor(0.6591)}, {'accuracy_macro': tensor(0.7291), 'accuracy_micro': tensor(0.7291), 'accuracy_none': tensor([0.9385, 0.7551, 0.6023, 0.7384, 0.8301, 0.6426, 0.6823, 0.7849, 0.8260,\n",
    "        0.6141, 0.6561, 0.7018, 0.7370, 0.6995, 0.6719, 0.7560, 0.7849, 0.8098,\n",
    "        0.8346, 0.6891, 0.6159, 0.7406, 0.6584]), 'accuracy_weighted': tensor(0.6842), 'f1_macro': tensor(0.2204), 'f1_micro': tensor(0.2679), 'f1_none': tensor([0.0423, 0.1451, 0.4817, 0.1106, 0.0962, 0.2018, 0.1332, 0.5810, 0.1230,\n",
    "        0.1511, 0.3295, 0.0984, 0.1365, 0.2112, 0.2210, 0.1030, 0.4094, 0.2704,\n",
    "        0.0985, 0.1548, 0.4668, 0.2180, 0.2868]), 'f1_weighted': tensor(0.3438), 'precision_macro': tensor(0.1470), 'precision_micro': tensor(0.1693), 'precision_none': tensor([0.0219, 0.0807, 0.3668, 0.0614, 0.0525, 0.1220, 0.0742, 0.4681, 0.0699,\n",
    "        0.0888, 0.2338, 0.0534, 0.0771, 0.1264, 0.1336, 0.0561, 0.2830, 0.1677,\n",
    "        0.0535, 0.0904, 0.3823, 0.1329, 0.1842]), 'precision_weighted': tensor(0.2524), 'recall_macro': tensor(0.6219), 'recall_micro': tensor(0.6418), 'recall_none': tensor([0.6000, 0.7188, 0.7015, 0.5538, 0.5714, 0.5848, 0.6506, 0.7657, 0.5094,\n",
    "        0.5067, 0.5582, 0.6207, 0.5974, 0.6403, 0.6398, 0.6327, 0.7399, 0.6964,\n",
    "        0.6250, 0.5385, 0.5990, 0.6061, 0.6468]), 'recall_weighted': tensor(0.6418)}, {'accuracy_macro': tensor(0.7495), 'accuracy_micro': tensor(0.7495), 'accuracy_none': tensor([0.9675, 0.8098, 0.6222, 0.7555, 0.8911, 0.5974, 0.6859, 0.8070, 0.8662,\n",
    "        0.6096, 0.6299, 0.7460, 0.7872, 0.7176, 0.6683, 0.8324, 0.7944, 0.8292,\n",
    "        0.8816, 0.7343, 0.5676, 0.7836, 0.6539]), 'accuracy_weighted': tensor(0.6870), 'f1_macro': tensor(0.2251), 'f1_micro': tensor(0.2826), 'f1_none': tensor([0.0769, 0.1696, 0.4896, 0.1175, 0.0837, 0.1907, 0.1323, 0.6021, 0.1345,\n",
    "        0.1563, 0.3368, 0.0847, 0.1389, 0.2178, 0.2241, 0.1311, 0.4129, 0.2841,\n",
    "        0.0709, 0.1552, 0.4704, 0.2160, 0.2814]), 'f1_weighted': tensor(0.3493), 'precision_macro': tensor(0.1510), 'precision_micro': tensor(0.1814), 'precision_none': tensor([0.0411, 0.0971, 0.3801, 0.0657, 0.0482, 0.1129, 0.0738, 0.5031, 0.0796,\n",
    "        0.0915, 0.2311, 0.0468, 0.0809, 0.1318, 0.1350, 0.0741, 0.2899, 0.1803,\n",
    "        0.0400, 0.0933, 0.3583, 0.1378, 0.1805]), 'precision_weighted': tensor(0.2555), 'recall_macro': tensor(0.5739), 'recall_micro': tensor(0.6388), 'recall_none': tensor([0.6000, 0.6719, 0.6878, 0.5538, 0.3143, 0.6140, 0.6386, 0.7494, 0.4340,\n",
    "        0.5333, 0.6209, 0.4483, 0.4935, 0.6259, 0.6584, 0.5714, 0.7175, 0.6696,\n",
    "        0.3125, 0.4615, 0.6844, 0.5000, 0.6383]), 'recall_weighted': tensor(0.6388)}, {'accuracy_macro': tensor(0.7515), 'accuracy_micro': tensor(0.7515), 'accuracy_none': tensor([0.9643, 0.7831, 0.6439, 0.7610, 0.8839, 0.5960, 0.7325, 0.8066, 0.8757,\n",
    "        0.5825, 0.6146, 0.7388, 0.7912, 0.7442, 0.6819, 0.8441, 0.7944, 0.8324,\n",
    "        0.8983, 0.7158, 0.5802, 0.7673, 0.6516]), 'accuracy_weighted': tensor(0.6911), 'f1_macro': tensor(0.2277), 'f1_micro': tensor(0.2840), 'f1_none': tensor([0.0706, 0.1489, 0.4890, 0.1198, 0.0854, 0.2032, 0.1370, 0.5970, 0.1214,\n",
    "        0.1523, 0.3484, 0.0940, 0.1413, 0.2225, 0.2298, 0.1353, 0.4219, 0.2852,\n",
    "        0.0964, 0.1580, 0.4682, 0.2279, 0.2841]), 'f1_weighted': tensor(0.3514), 'precision_macro': tensor(0.1533), 'precision_micro': tensor(0.1826), 'precision_none': tensor([0.0375, 0.0840, 0.3931, 0.0672, 0.0488, 0.1199, 0.0779, 0.5024, 0.0731,\n",
    "        0.0883, 0.2341, 0.0517, 0.0824, 0.1375, 0.1394, 0.0771, 0.2943, 0.1818,\n",
    "        0.0553, 0.0937, 0.3632, 0.1421, 0.1817]), 'precision_weighted': tensor(0.2596), 'recall_macro': tensor(0.5794), 'recall_micro': tensor(0.6380), 'recall_none': tensor([0.6000, 0.6562, 0.6467, 0.5538, 0.3429, 0.6667, 0.5663, 0.7355, 0.3585,\n",
    "        0.5533, 0.6806, 0.5172, 0.4935, 0.5827, 0.6522, 0.5510, 0.7444, 0.6607,\n",
    "        0.3750, 0.5043, 0.6586, 0.5758, 0.6511]), 'recall_weighted': tensor(0.6380)}, {'accuracy_macro': tensor(0.7081), 'accuracy_micro': tensor(0.7081), 'accuracy_none': tensor([0.9458, 0.7257, 0.6561, 0.6905, 0.8667, 0.5260, 0.6376, 0.8070, 0.8265,\n",
    "        0.5084, 0.5847, 0.6805, 0.7316, 0.7935, 0.6141, 0.8143, 0.7632, 0.8089,\n",
    "        0.8644, 0.6263, 0.5685, 0.6905, 0.5549]), 'accuracy_weighted': tensor(0.6606), 'f1_macro': tensor(0.2199), 'f1_micro': tensor(0.2649), 'f1_none': tensor([0.0476, 0.1316, 0.4944, 0.1069, 0.1033, 0.2023, 0.1225, 0.5890, 0.1193,\n",
    "        0.1513, 0.3440, 0.0854, 0.1265, 0.2421, 0.2122, 0.1237, 0.4005, 0.2719,\n",
    "        0.0909, 0.1394, 0.4818, 0.2081, 0.2633]), 'f1_weighted': tensor(0.3476), 'precision_macro': tensor(0.1463), 'precision_micro': tensor(0.1644), 'precision_none': tensor([0.0248, 0.0724, 0.4035, 0.0584, 0.0578, 0.1163, 0.0674, 0.5033, 0.0679,\n",
    "        0.0857, 0.2261, 0.0462, 0.0713, 0.1573, 0.1246, 0.0690, 0.2688, 0.1684,\n",
    "        0.0503, 0.0794, 0.3633, 0.1228, 0.1597]), 'precision_weighted': tensor(0.2551), 'recall_macro': tensor(0.6404), 'recall_micro': tensor(0.6810), 'recall_none': tensor([0.6000, 0.7188, 0.6381, 0.6308, 0.4857, 0.7778, 0.6747, 0.7100, 0.4906,\n",
    "        0.6467, 0.7194, 0.5690, 0.5584, 0.5252, 0.7143, 0.5918, 0.7848, 0.7054,\n",
    "        0.4688, 0.5726, 0.7150, 0.6818, 0.7489]), 'recall_weighted': tensor(0.6810)}]\n",
    "\n",
    "a[4]"
   ]
  },
  {
   "cell_type": "code",
   "execution_count": 13,
   "id": "e83adbc3",
   "metadata": {},
   "outputs": [
    {
     "data": {
      "text/plain": [
       "({'accuracy_macro': tensor(0.7991),\n",
       "  'accuracy_micro': tensor(0.7991),\n",
       "  'accuracy_none': tensor([0.7840, 0.7890, 0.7895, 0.8175, 0.8045, 0.8100]),\n",
       "  'accuracy_weighted': tensor(0.8016),\n",
       "  'f1_macro': tensor(0.8265),\n",
       "  'f1_micro': tensor(0.8395),\n",
       "  'f1_none': tensor([0.6992, 0.8428, 0.8252, 0.8905, 0.8484, 0.8527]),\n",
       "  'f1_weighted': tensor(0.8425),\n",
       "  'precision_macro': tensor(0.8343),\n",
       "  'precision_micro': tensor(0.8520),\n",
       "  'precision_none': tensor([0.5969, 0.9062, 0.8094, 0.9375, 0.8923, 0.8634]),\n",
       "  'precision_weighted': tensor(0.8645),\n",
       "  'recall_macro': tensor(0.8286),\n",
       "  'recall_micro': tensor(0.8273),\n",
       "  'recall_none': tensor([0.8437, 0.7876, 0.8417, 0.8480, 0.8086, 0.8423]),\n",
       "  'recall_weighted': tensor(0.8273)},\n",
       " {'accuracy_macro': tensor(0.7991),\n",
       "  'accuracy_micro': tensor(0.7991),\n",
       "  'accuracy_none': tensor([0.7840, 0.7890, 0.7895, 0.8175, 0.8045, 0.8100]),\n",
       "  'accuracy_weighted': tensor(0.7947),\n",
       "  'f1_macro': tensor(0.6927),\n",
       "  'f1_micro': tensor(0.7315),\n",
       "  'f1_none': tensor([0.8315, 0.6793, 0.7354, 0.4528, 0.7248, 0.7324]),\n",
       "  'f1_weighted': tensor(0.7408),\n",
       "  'precision_macro': tensor(0.6693),\n",
       "  'precision_micro': tensor(0.7139),\n",
       "  'precision_none': tensor([0.9198, 0.5944, 0.7578, 0.3621, 0.6654, 0.7163]),\n",
       "  'precision_weighted': tensor(0.7459),\n",
       "  'recall_macro': tensor(0.7358),\n",
       "  'recall_micro': tensor(0.7499),\n",
       "  'recall_none': tensor([0.7587, 0.7926, 0.7143, 0.6040, 0.7960, 0.7493]),\n",
       "  'recall_weighted': tensor(0.7499)})"
      ]
     },
     "execution_count": 13,
     "metadata": {},
     "output_type": "execute_result"
    }
   ],
   "source": [
    "from torch import tensor\n",
    "n = [{'accuracy_macro': tensor(0.7476), 'accuracy_micro': tensor(0.7476), 'accuracy_none': tensor([0.7710, 0.7810, 0.7660, 0.6200, 0.7820, 0.7655]), 'accuracy_weighted': tensor(0.7384), 'f1_macro': tensor(0.7777), 'f1_micro': tensor(0.7867), 'f1_none': tensor([0.6657, 0.8410, 0.7886, 0.7326, 0.8326, 0.8058]), 'f1_weighted': tensor(0.7868), 'precision_macro': tensor(0.8349), 'precision_micro': tensor(0.8490), 'precision_none': tensor([0.5884, 0.8786, 0.8451, 0.9533, 0.8665, 0.8774]), 'precision_weighted': tensor(0.8655), 'recall_macro': tensor(0.7422), 'recall_micro': tensor(0.7328), 'recall_none': tensor([0.7664, 0.8064, 0.7392, 0.5949, 0.8012, 0.7450]), 'recall_weighted': tensor(0.7328)}, {'accuracy_macro': tensor(0.7555), 'accuracy_micro': tensor(0.7555), 'accuracy_none': tensor([0.8105, 0.7875, 0.7695, 0.6090, 0.7915, 0.7650]), 'accuracy_weighted': tensor(0.7424), 'f1_macro': tensor(0.7794), 'f1_micro': tensor(0.7869), 'f1_none': tensor([0.6941, 0.8435, 0.7826, 0.7215, 0.8374, 0.7972]), 'f1_weighted': tensor(0.7854), 'precision_macro': tensor(0.8671), 'precision_micro': tensor(0.8814), 'precision_none': tensor([0.6677, 0.8952, 0.8830, 0.9575, 0.8861, 0.9130]), 'precision_weighted': tensor(0.8913), 'recall_macro': tensor(0.7172), 'recall_micro': tensor(0.7107), 'recall_none': tensor([0.7227, 0.7974, 0.7028, 0.5789, 0.7938, 0.7075]), 'recall_weighted': tensor(0.7107)}, {'accuracy_macro': tensor(0.7818), 'accuracy_micro': tensor(0.7818), 'accuracy_none': tensor([0.7590, 0.8040, 0.7930, 0.7205, 0.8135, 0.8010]), 'accuracy_weighted': tensor(0.7808), 'f1_macro': tensor(0.8115), 'f1_micro': tensor(0.8222), 'f1_none': tensor([0.6743, 0.8568, 0.8206, 0.8173, 0.8582, 0.8416]), 'f1_weighted': tensor(0.8255), 'precision_macro': tensor(0.8366), 'precision_micro': tensor(0.8520), 'precision_none': tensor([0.5638, 0.9009, 0.8403, 0.9549, 0.8834, 0.8765]), 'precision_weighted': tensor(0.8703), 'recall_macro': tensor(0.8026), 'recall_micro': tensor(0.7945), 'recall_none': tensor([0.8387, 0.8169, 0.8019, 0.7143, 0.8344, 0.8093]), 'recall_weighted': tensor(0.7945)}, {'accuracy_macro': tensor(0.7856), 'accuracy_micro': tensor(0.7856), 'accuracy_none': tensor([0.8010, 0.8085, 0.7890, 0.7105, 0.8125, 0.7920]), 'accuracy_weighted': tensor(0.7803), 'f1_macro': tensor(0.8108), 'f1_micro': tensor(0.8206), 'f1_none': tensor([0.7025, 0.8602, 0.8090, 0.8086, 0.8564, 0.8280]), 'f1_weighted': tensor(0.8219), 'precision_macro': tensor(0.8589), 'precision_micro': tensor(0.8756), 'precision_none': tensor([0.6326, 0.9041, 0.8688, 0.9592, 0.8887, 0.9002]), 'precision_weighted': tensor(0.8867), 'recall_macro': tensor(0.7765), 'recall_micro': tensor(0.7721), 'recall_none': tensor([0.7899, 0.8203, 0.7570, 0.6989, 0.8263, 0.7665]), 'recall_weighted': tensor(0.7721)}, {'accuracy_macro': tensor(0.7951), 'accuracy_micro': tensor(0.7951), 'accuracy_none': tensor([0.7785, 0.7995, 0.7940, 0.7775, 0.8125, 0.8085]), 'accuracy_weighted': tensor(0.7958), 'f1_macro': tensor(0.8226), 'f1_micro': tensor(0.8346), 'f1_none': tensor([0.6917, 0.8531, 0.8241, 0.8610, 0.8565, 0.8495]), 'f1_weighted': tensor(0.8378), 'precision_macro': tensor(0.8387), 'precision_micro': tensor(0.8562), 'precision_none': tensor([0.5903, 0.9002, 0.8312, 0.9497, 0.8881, 0.8725]), 'precision_weighted': tensor(0.8698), 'recall_macro': tensor(0.8175), 'recall_micro': tensor(0.8141), 'recall_none': tensor([0.8353, 0.8106, 0.8171, 0.7874, 0.8271, 0.8277]), 'recall_weighted': tensor(0.8141)}, {'accuracy_macro': tensor(0.7991), 'accuracy_micro': tensor(0.7991), 'accuracy_none': tensor([0.7840, 0.7890, 0.7895, 0.8175, 0.8045, 0.8100]), 'accuracy_weighted': tensor(0.8016), 'f1_macro': tensor(0.8265), 'f1_micro': tensor(0.8395), 'f1_none': tensor([0.6992, 0.8428, 0.8252, 0.8905, 0.8484, 0.8527]), 'f1_weighted': tensor(0.8425), 'precision_macro': tensor(0.8343), 'precision_micro': tensor(0.8520), 'precision_none': tensor([0.5969, 0.9062, 0.8094, 0.9375, 0.8923, 0.8634]), 'precision_weighted': tensor(0.8645), 'recall_macro': tensor(0.8286), 'recall_micro': tensor(0.8273), 'recall_none': tensor([0.8437, 0.7876, 0.8417, 0.8480, 0.8086, 0.8423]), 'recall_weighted': tensor(0.8273)}, {'accuracy_macro': tensor(0.7997), 'accuracy_micro': tensor(0.7997), 'accuracy_none': tensor([0.7955, 0.7900, 0.7960, 0.7995, 0.7970, 0.8200]), 'accuracy_weighted': tensor(0.7999), 'f1_macro': tensor(0.8263), 'f1_micro': tensor(0.8383), 'f1_none': tensor([0.7064, 0.8433, 0.8287, 0.8770, 0.8413, 0.8611]), 'f1_weighted': tensor(0.8408), 'precision_macro': tensor(0.8423), 'precision_micro': tensor(0.8600), 'precision_none': tensor([0.6165, 0.9084, 0.8218, 0.9464, 0.8929, 0.8678]), 'precision_weighted': tensor(0.8712), 'recall_macro': tensor(0.8194), 'recall_micro': tensor(0.8176), 'recall_none': tensor([0.8269, 0.7869, 0.8357, 0.8171, 0.7953, 0.8545]), 'recall_weighted': tensor(0.8176)}, {'accuracy_macro': tensor(0.8011), 'accuracy_micro': tensor(0.8011), 'accuracy_none': tensor([0.7925, 0.7880, 0.7950, 0.8190, 0.8000, 0.8120]), 'accuracy_weighted': tensor(0.8028), 'f1_macro': tensor(0.8276), 'f1_micro': tensor(0.8406), 'f1_none': tensor([0.7042, 0.8419, 0.8287, 0.8914, 0.8444, 0.8549]), 'f1_weighted': tensor(0.8432), 'precision_macro': tensor(0.8378), 'precision_micro': tensor(0.8559), 'precision_none': tensor([0.6114, 0.9061, 0.8178, 0.9381, 0.8915, 0.8616]), 'precision_weighted': tensor(0.8665), 'recall_macro': tensor(0.8260), 'recall_micro': tensor(0.8259), 'recall_none': tensor([0.8303, 0.7862, 0.8400, 0.8491, 0.8019, 0.8484]), 'recall_weighted': tensor(0.8259)}, {'accuracy_macro': tensor(0.8142), 'accuracy_micro': tensor(0.8142), 'accuracy_none': tensor([0.7850, 0.8110, 0.8045, 0.8435, 0.8190, 0.8220]), 'accuracy_weighted': tensor(0.8187), 'f1_macro': tensor(0.8378), 'f1_micro': tensor(0.8530), 'f1_none': tensor([0.6976, 0.8654, 0.8317, 0.9082, 0.8660, 0.8576]), 'f1_weighted': tensor(0.8557), 'precision_macro': tensor(0.8382), 'precision_micro': tensor(0.8573), 'precision_none': tensor([0.5998, 0.8856, 0.8459, 0.9326, 0.8673, 0.8978]), 'precision_weighted': tensor(0.8668), 'recall_macro': tensor(0.8447), 'recall_micro': tensor(0.8487), 'recall_none': tensor([0.8336, 0.8461, 0.8180, 0.8851, 0.8647, 0.8208]), 'recall_weighted': tensor(0.8487)}, {'accuracy_macro': tensor(0.8104), 'accuracy_micro': tensor(0.8104), 'accuracy_none': tensor([0.8000, 0.7950, 0.7960, 0.8570, 0.8065, 0.8080]), 'accuracy_weighted': tensor(0.8141), 'f1_macro': tensor(0.8334), 'f1_micro': tensor(0.8488), 'f1_none': tensor([0.7076, 0.8496, 0.8258, 0.9178, 0.8528, 0.8466]), 'f1_weighted': tensor(0.8505), 'precision_macro': tensor(0.8406), 'precision_micro': tensor(0.8600), 'precision_none': tensor([0.6261, 0.8977, 0.8329, 0.9236, 0.8785, 0.8848]), 'precision_weighted': tensor(0.8668), 'recall_macro': tensor(0.8318), 'recall_micro': tensor(0.8379), 'recall_none': tensor([0.8134, 0.8064, 0.8188, 0.9120, 0.8285, 0.8116]), 'recall_weighted': tensor(0.8379)}]\n",
    "p = [{'accuracy_macro': tensor(0.7476), 'accuracy_micro': tensor(0.7476), 'accuracy_none': tensor([0.7710, 0.7810, 0.7660, 0.6200, 0.7820, 0.7655]), 'accuracy_weighted': tensor(0.7635), 'f1_macro': tensor(0.6580), 'f1_micro': tensor(0.6909), 'f1_none': tensor([0.8259, 0.6485, 0.7380, 0.3437, 0.6877, 0.7041]), 'f1_weighted': tensor(0.7193), 'precision_macro': tensor(0.6078), 'precision_micro': tensor(0.6245), 'precision_none': tensor([0.8865, 0.5924, 0.6815, 0.2192, 0.6409, 0.6263]), 'precision_weighted': tensor(0.6946), 'recall_macro': tensor(0.7726), 'recall_micro': tensor(0.7732), 'recall_none': tensor([0.7730, 0.7163, 0.8046, 0.7960, 0.7419, 0.8040]), 'recall_weighted': tensor(0.7732)}, {'accuracy_macro': tensor(0.7555), 'accuracy_micro': tensor(0.7555), 'accuracy_none': tensor([0.8105, 0.7875, 0.7695, 0.6090, 0.7915, 0.7650]), 'accuracy_weighted': tensor(0.7783), 'f1_macro': tensor(0.6768), 'f1_micro': tensor(0.7133), 'f1_none': tensor([0.8627, 0.6693, 0.7547, 0.3440, 0.7094, 0.7206]), 'f1_weighted': tensor(0.7428), 'precision_macro': tensor(0.6034), 'precision_micro': tensor(0.6234), 'precision_none': tensor([0.8783, 0.5964, 0.6689, 0.2176, 0.6459, 0.6134]), 'precision_weighted': tensor(0.6888), 'recall_macro': tensor(0.8259), 'recall_micro': tensor(0.8335), 'recall_none': tensor([0.8477, 0.7624, 0.8657, 0.8200, 0.7867, 0.8732]), 'recall_weighted': tensor(0.8335)}, {'accuracy_macro': tensor(0.7818), 'accuracy_micro': tensor(0.7818), 'accuracy_none': tensor([0.7590, 0.8040, 0.7930, 0.7205, 0.8135, 0.8010]), 'accuracy_weighted': tensor(0.7837), 'f1_macro': tensor(0.6866), 'f1_micro': tensor(0.7176), 'f1_none': tensor([0.8087, 0.6894, 0.7553, 0.4060, 0.7275, 0.7325]), 'f1_weighted': tensor(0.7363), 'precision_macro': tensor(0.6536), 'precision_micro': tensor(0.6800), 'precision_none': tensor([0.9139, 0.6232, 0.7320, 0.2764, 0.6898, 0.6864]), 'precision_weighted': tensor(0.7369), 'recall_macro': tensor(0.7660), 'recall_micro': tensor(0.7598), 'recall_none': tensor([0.7253, 0.7713, 0.7802, 0.7640, 0.7697, 0.7853]), 'recall_weighted': tensor(0.7598)}, {'accuracy_macro': tensor(0.7856), 'accuracy_micro': tensor(0.7856), 'accuracy_none': tensor([0.8010, 0.8085, 0.7890, 0.7105, 0.8125, 0.7920]), 'accuracy_weighted': tensor(0.7948), 'f1_macro': tensor(0.6974), 'f1_micro': tensor(0.7336), 'f1_none': tensor([0.8505, 0.6963, 0.7642, 0.4062, 0.7300, 0.7370]), 'f1_weighted': tensor(0.7534), 'precision_macro': tensor(0.6413), 'precision_micro': tensor(0.6710), 'precision_none': tensor([0.9006, 0.6298, 0.7044, 0.2731, 0.6833, 0.6565]), 'precision_weighted': tensor(0.7224), 'recall_macro': tensor(0.8058), 'recall_micro': tensor(0.8091), 'recall_none': tensor([0.8057, 0.7784, 0.8352, 0.7920, 0.7836, 0.8401]), 'recall_weighted': tensor(0.8091)}, {'accuracy_macro': tensor(0.7951), 'accuracy_micro': tensor(0.7951), 'accuracy_none': tensor([0.7785, 0.7995, 0.7940, 0.7775, 0.8125, 0.8085]), 'accuracy_weighted': tensor(0.7938), 'f1_macro': tensor(0.6954), 'f1_micro': tensor(0.7308), 'f1_none': tensor([0.8272, 0.6845, 0.7515, 0.4431, 0.7296, 0.7368]), 'f1_weighted': tensor(0.7440), 'precision_macro': tensor(0.6640), 'precision_micro': tensor(0.7019), 'precision_none': tensor([0.9154, 0.6153, 0.7426, 0.3224, 0.6838, 0.7043]), 'precision_weighted': tensor(0.7429), 'recall_macro': tensor(0.7581), 'recall_micro': tensor(0.7620), 'recall_none': tensor([0.7544, 0.7713, 0.7607, 0.7080, 0.7821, 0.7723]), 'recall_weighted': tensor(0.7620)}, {'accuracy_macro': tensor(0.7991), 'accuracy_micro': tensor(0.7991), 'accuracy_none': tensor([0.7840, 0.7890, 0.7895, 0.8175, 0.8045, 0.8100]), 'accuracy_weighted': tensor(0.7947), 'f1_macro': tensor(0.6927), 'f1_micro': tensor(0.7315), 'f1_none': tensor([0.8315, 0.6793, 0.7354, 0.4528, 0.7248, 0.7324]), 'f1_weighted': tensor(0.7408), 'precision_macro': tensor(0.6693), 'precision_micro': tensor(0.7139), 'precision_none': tensor([0.9198, 0.5944, 0.7578, 0.3621, 0.6654, 0.7163]), 'precision_weighted': tensor(0.7459), 'recall_macro': tensor(0.7358), 'recall_micro': tensor(0.7499), 'recall_none': tensor([0.7587, 0.7926, 0.7143, 0.6040, 0.7960, 0.7493]), 'recall_weighted': tensor(0.7499)}, {'accuracy_macro': tensor(0.7997), 'accuracy_micro': tensor(0.7997), 'accuracy_none': tensor([0.7955, 0.7900, 0.7960, 0.7995, 0.7970, 0.8200]), 'accuracy_weighted': tensor(0.7992), 'f1_macro': tensor(0.6988), 'f1_micro': tensor(0.7368), 'f1_none': tensor([0.8431, 0.6818, 0.7478, 0.4574, 0.7184, 0.7443]), 'f1_weighted': tensor(0.7484), 'precision_macro': tensor(0.6663), 'precision_micro': tensor(0.7077), 'precision_none': tensor([0.9143, 0.5952, 0.7572, 0.3456, 0.6516, 0.7339]), 'precision_weighted': tensor(0.7439), 'recall_macro': tensor(0.7584), 'recall_micro': tensor(0.7684), 'recall_none': tensor([0.7822, 0.7979, 0.7387, 0.6760, 0.8006, 0.7550]), 'recall_weighted': tensor(0.7684)}, {'accuracy_macro': tensor(0.8011), 'accuracy_micro': tensor(0.8011), 'accuracy_none': tensor([0.7925, 0.7880, 0.7950, 0.8190, 0.8000, 0.8120]), 'accuracy_weighted': tensor(0.7981), 'f1_macro': tensor(0.6955), 'f1_micro': tensor(0.7355), 'f1_none': tensor([0.8402, 0.6783, 0.7447, 0.4565, 0.7203, 0.7330]), 'f1_weighted': tensor(0.7449), 'precision_macro': tensor(0.6690), 'precision_micro': tensor(0.7144), 'precision_none': tensor([0.9153, 0.5928, 0.7598, 0.3654, 0.6577, 0.7227]), 'precision_weighted': tensor(0.7447), 'recall_macro': tensor(0.7411), 'recall_micro': tensor(0.7579), 'recall_none': tensor([0.7765, 0.7926, 0.7302, 0.6080, 0.7960, 0.7435]), 'recall_weighted': tensor(0.7579)}, {'accuracy_macro': tensor(0.8142), 'accuracy_micro': tensor(0.8142), 'accuracy_none': tensor([0.7850, 0.8110, 0.8045, 0.8435, 0.8190, 0.8220]), 'accuracy_weighted': tensor(0.8062), 'f1_macro': tensor(0.7059), 'f1_micro': tensor(0.7476), 'f1_none': tensor([0.8332, 0.6829, 0.7668, 0.4686, 0.7211, 0.7627]), 'f1_weighted': tensor(0.7529), 'precision_macro': tensor(0.6915), 'precision_micro': tensor(0.7412), 'precision_none': tensor([0.9156, 0.6481, 0.7494, 0.4071, 0.7189, 0.7097]), 'precision_weighted': tensor(0.7593), 'recall_macro': tensor(0.7284), 'recall_micro': tensor(0.7541), 'recall_none': tensor([0.7644, 0.7216, 0.7851, 0.5520, 0.7233, 0.8242]), 'recall_weighted': tensor(0.7541)}, {'accuracy_macro': tensor(0.8104), 'accuracy_micro': tensor(0.8104), 'accuracy_none': tensor([0.8000, 0.7950, 0.7960, 0.8570, 0.8065, 0.8080]), 'accuracy_weighted': tensor(0.8041), 'f1_macro': tensor(0.6989), 'f1_micro': tensor(0.7459), 'f1_none': tensor([0.8480, 0.6782, 0.7539, 0.4521, 0.7177, 0.7433]), 'f1_weighted': tensor(0.7501), 'precision_macro': tensor(0.6783), 'precision_micro': tensor(0.7300), 'precision_none': tensor([0.9095, 0.6085, 0.7449, 0.4338, 0.6796, 0.6933]), 'precision_weighted': tensor(0.7446), 'recall_macro': tensor(0.7262), 'recall_micro': tensor(0.7625), 'recall_none': tensor([0.7943, 0.7660, 0.7631, 0.4720, 0.7604, 0.8012]), 'recall_weighted': tensor(0.7625)}]\n",
    "\n",
    "n[5], p[5]"
   ]
  },
  {
   "cell_type": "code",
   "execution_count": 35,
   "id": "5f13affa",
   "metadata": {},
   "outputs": [
    {
     "data": {
      "text/plain": [
       "67.5"
      ]
     },
     "execution_count": 35,
     "metadata": {},
     "output_type": "execute_result"
    }
   ],
   "source": [
    "(42+93)/2"
   ]
  },
  {
   "cell_type": "code",
   "execution_count": 36,
   "id": "824714a4",
   "metadata": {},
   "outputs": [
    {
     "data": {
      "text/plain": [
       "tensor([0.0000, 0.5000])"
      ]
     },
     "execution_count": 36,
     "metadata": {},
     "output_type": "execute_result"
    }
   ],
   "source": [
    "acc = torchmetrics.F1Score(num_classes=2, average='none')\n",
    "\n",
    "ml_preds  = torch.tensor([[0.2, 0.7], [0.2, 0.6], [0.4, 0.9]])\n",
    "ml_target = torch.tensor([[0, 0], [0, 0], [1, 1]])\n",
    "#ml_preds  = torch.tensor([[0.2, 0.8, 0.9], [0.5, 0.6, 0.1], [0.3, 0.1, 0.1]])\n",
    "#ml_target = torch.tensor([[0, 1, 1], [1, 0, 0], [0, 0, 0]])\n",
    "acc(ml_preds, ml_target)"
   ]
  },
  {
   "cell_type": "code",
   "execution_count": 37,
   "id": "2daaddc8",
   "metadata": {},
   "outputs": [
    {
     "data": {
      "text/plain": [
       "tensor([0.8000, 0.0000])"
      ]
     },
     "execution_count": 37,
     "metadata": {},
     "output_type": "execute_result"
    }
   ],
   "source": [
    "acc(1-ml_preds, 1-ml_target)"
   ]
  },
  {
   "cell_type": "code",
   "execution_count": 19,
   "id": "312f05d3",
   "metadata": {},
   "outputs": [
    {
     "data": {
      "text/plain": [
       "array([0.3, 0.1, 0.2], dtype=float32)"
      ]
     },
     "execution_count": 19,
     "metadata": {},
     "output_type": "execute_result"
    }
   ],
   "source": []
  },
  {
   "cell_type": "code",
   "execution_count": 48,
   "id": "c67cbad8",
   "metadata": {},
   "outputs": [
    {
     "data": {
      "text/plain": [
       "0.5"
      ]
     },
     "execution_count": 48,
     "metadata": {},
     "output_type": "execute_result"
    }
   ],
   "source": [
    "from sklearn.metrics import f1_score\n",
    "ml_preds  = torch.tensor([1, 1, 1])\n",
    "ml_target = torch.tensor([0, 0, 1])\n",
    "f1_score(ml_preds.numpy(), ml_target.numpy(), pos_label=1)"
   ]
  },
  {
   "cell_type": "code",
   "execution_count": 49,
   "id": "8506af5f",
   "metadata": {},
   "outputs": [
    {
     "data": {
      "text/plain": [
       "0.0"
      ]
     },
     "execution_count": 49,
     "metadata": {},
     "output_type": "execute_result"
    }
   ],
   "source": [
    "f1_score(ml_preds.numpy(), ml_target.numpy(), pos_label=0)"
   ]
  },
  {
   "cell_type": "code",
   "execution_count": 3,
   "id": "260326c4",
   "metadata": {},
   "outputs": [
    {
     "data": {
      "text/plain": [
       "tensor([0.6899, 0.7326, 0.7550, 0.6549, 0.7571, 0.7681])"
      ]
     },
     "execution_count": 3,
     "metadata": {},
     "output_type": "execute_result"
    }
   ],
   "source": [
    "a = torch.tensor([0.6958, 0.5843, 0.6672, 0.3805, 0.6305, 0.6678])\n",
    "b = torch.tensor([0.6840, 0.8810, 0.8428, 0.9292, 0.8836, 0.8684])\n",
    "(a + b) / 2"
   ]
  }
 ],
 "metadata": {
  "kernelspec": {
   "display_name": "Python 3 (ipykernel)",
   "language": "python",
   "name": "python3"
  },
  "language_info": {
   "codemirror_mode": {
    "name": "ipython",
    "version": 3
   },
   "file_extension": ".py",
   "mimetype": "text/x-python",
   "name": "python",
   "nbconvert_exporter": "python",
   "pygments_lexer": "ipython3",
   "version": "3.8.10"
  }
 },
 "nbformat": 4,
 "nbformat_minor": 5
}
