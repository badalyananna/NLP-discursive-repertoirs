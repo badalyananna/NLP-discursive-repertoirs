{
 "cells": [
  {
   "cell_type": "code",
   "execution_count": 2,
   "metadata": {
    "colab": {
     "base_uri": "https://localhost:8080/",
     "height": 1000
    },
    "id": "r5HLKuG_RQ6n",
    "outputId": "27983a21-4438-4110-ea77-2c40052fc73e",
    "scrolled": true
   },
   "outputs": [
    {
     "data": {
      "text/html": [
       "<div>\n",
       "<style scoped>\n",
       "    .dataframe tbody tr th:only-of-type {\n",
       "        vertical-align: middle;\n",
       "    }\n",
       "\n",
       "    .dataframe tbody tr th {\n",
       "        vertical-align: top;\n",
       "    }\n",
       "\n",
       "    .dataframe thead th {\n",
       "        text-align: right;\n",
       "    }\n",
       "</style>\n",
       "<table border=\"1\" class=\"dataframe\">\n",
       "  <thead>\n",
       "    <tr style=\"text-align: right;\">\n",
       "      <th></th>\n",
       "      <th>Domanda</th>\n",
       "      <th>Testo</th>\n",
       "      <th>Stralcio</th>\n",
       "      <th>Repertorio</th>\n",
       "    </tr>\n",
       "  </thead>\n",
       "  <tbody>\n",
       "    <tr>\n",
       "      <th>0</th>\n",
       "      <td>A cosa serve questo testo per il perseguimento...</td>\n",
       "      <td>Dunque vediamo se ho capito: Conte le canta a ...</td>\n",
       "      <td>Dunque vediamo se ho capito:</td>\n",
       "      <td>dichiarazione di intenti</td>\n",
       "    </tr>\n",
       "    <tr>\n",
       "      <th>1</th>\n",
       "      <td>NaN</td>\n",
       "      <td>NaN</td>\n",
       "      <td>Conte le canta a Salvini e alla Meloni</td>\n",
       "      <td>sancire</td>\n",
       "    </tr>\n",
       "    <tr>\n",
       "      <th>2</th>\n",
       "      <td>NaN</td>\n",
       "      <td>NaN</td>\n",
       "      <td>questi reagiscono e le cantano a loro volta a ...</td>\n",
       "      <td>giustificazione</td>\n",
       "    </tr>\n",
       "    <tr>\n",
       "      <th>3</th>\n",
       "      <td>NaN</td>\n",
       "      <td>NaN</td>\n",
       "      <td>Mentana si smarca da Conte e finisce con foto ...</td>\n",
       "      <td>sancire</td>\n",
       "    </tr>\n",
       "    <tr>\n",
       "      <th>4</th>\n",
       "      <td>NaN</td>\n",
       "      <td>NaN</td>\n",
       "      <td>Siamo tornati per un attimo alla normalità:</td>\n",
       "      <td>commento</td>\n",
       "    </tr>\n",
       "    <tr>\n",
       "      <th>5</th>\n",
       "      <td>NaN</td>\n",
       "      <td>NaN</td>\n",
       "      <td>meraviglia assoluta!</td>\n",
       "      <td>giudizio</td>\n",
       "    </tr>\n",
       "    <tr>\n",
       "      <th>6</th>\n",
       "      <td>NaN</td>\n",
       "      <td>#Conte è un pericolo per la libertà e la democ...</td>\n",
       "      <td>#Conte è un pericolo per la libertà e la democ...</td>\n",
       "      <td>non risposta</td>\n",
       "    </tr>\n",
       "    <tr>\n",
       "      <th>7</th>\n",
       "      <td>NaN</td>\n",
       "      <td>Comunque, se tutti i giornalisti che oggi si s...</td>\n",
       "      <td>Comunque,</td>\n",
       "      <td>commento</td>\n",
       "    </tr>\n",
       "    <tr>\n",
       "      <th>8</th>\n",
       "      <td>NaN</td>\n",
       "      <td>NaN</td>\n",
       "      <td>se tutti i giornalisti che oggi si stracciano ...</td>\n",
       "      <td>valutazione</td>\n",
       "    </tr>\n",
       "    <tr>\n",
       "      <th>9</th>\n",
       "      <td>NaN</td>\n",
       "      <td>NaN</td>\n",
       "      <td>forse oggi starebbero più tranquilli</td>\n",
       "      <td>possibilità</td>\n",
       "    </tr>\n",
       "    <tr>\n",
       "      <th>10</th>\n",
       "      <td>NaN</td>\n",
       "      <td>\"Ha suscitato scandalo la proposta di Salvini ...</td>\n",
       "      <td>Ha suscitato scandalo la proposta di Salvini d...</td>\n",
       "      <td>sancire</td>\n",
       "    </tr>\n",
       "    <tr>\n",
       "      <th>11</th>\n",
       "      <td>NaN</td>\n",
       "      <td>NaN</td>\n",
       "      <td>Non altrettanto scandalo aveva suscitato l’ide...</td>\n",
       "      <td>valutazione</td>\n",
       "    </tr>\n",
       "    <tr>\n",
       "      <th>12</th>\n",
       "      <td>NaN</td>\n",
       "      <td>NaN</td>\n",
       "      <td>Il leader della Lega mescola certo con troppa ...</td>\n",
       "      <td>conferma</td>\n",
       "    </tr>\n",
       "    <tr>\n",
       "      <th>13</th>\n",
       "      <td>NaN</td>\n",
       "      <td>NaN</td>\n",
       "      <td>E le esigenze di distanziamento sociale rendo...</td>\n",
       "      <td>conferma</td>\n",
       "    </tr>\n",
       "    <tr>\n",
       "      <th>14</th>\n",
       "      <td>NaN</td>\n",
       "      <td>NaN</td>\n",
       "      <td>Ma le reazioni che ha ricevuto fanno riflettere.</td>\n",
       "      <td>implicazione</td>\n",
       "    </tr>\n",
       "    <tr>\n",
       "      <th>15</th>\n",
       "      <td>NaN</td>\n",
       "      <td>NaN</td>\n",
       "      <td>, quasi sdegnate,</td>\n",
       "      <td>giudizio</td>\n",
       "    </tr>\n",
       "    <tr>\n",
       "      <th>16</th>\n",
       "      <td>NaN</td>\n",
       "      <td>NaN</td>\n",
       "      <td>La paradossale verità è che oggi cultura e ind...</td>\n",
       "      <td>giudizio</td>\n",
       "    </tr>\n",
       "    <tr>\n",
       "      <th>17</th>\n",
       "      <td>NaN</td>\n",
       "      <td>NaN</td>\n",
       "      <td>Il processo di secolarizzazione ha ormai espun...</td>\n",
       "      <td>sancire</td>\n",
       "    </tr>\n",
       "    <tr>\n",
       "      <th>18</th>\n",
       "      <td>NaN</td>\n",
       "      <td>NaN</td>\n",
       "      <td>, anche nel Paese più cattolico d’Europa,</td>\n",
       "      <td>specificazione</td>\n",
       "    </tr>\n",
       "    <tr>\n",
       "      <th>19</th>\n",
       "      <td>NaN</td>\n",
       "      <td>NaN</td>\n",
       "      <td>, come se fosse un sentimento privato, rispett...</td>\n",
       "      <td>commento</td>\n",
       "    </tr>\n",
       "  </tbody>\n",
       "</table>\n",
       "</div>"
      ],
      "text/plain": [
       "                                              Domanda  \\\n",
       "0   A cosa serve questo testo per il perseguimento...   \n",
       "1                                                 NaN   \n",
       "2                                                 NaN   \n",
       "3                                                 NaN   \n",
       "4                                                 NaN   \n",
       "5                                                 NaN   \n",
       "6                                                 NaN   \n",
       "7                                                 NaN   \n",
       "8                                                 NaN   \n",
       "9                                                 NaN   \n",
       "10                                                NaN   \n",
       "11                                                NaN   \n",
       "12                                                NaN   \n",
       "13                                                NaN   \n",
       "14                                                NaN   \n",
       "15                                                NaN   \n",
       "16                                                NaN   \n",
       "17                                                NaN   \n",
       "18                                                NaN   \n",
       "19                                                NaN   \n",
       "\n",
       "                                                Testo  \\\n",
       "0   Dunque vediamo se ho capito: Conte le canta a ...   \n",
       "1                                                 NaN   \n",
       "2                                                 NaN   \n",
       "3                                                 NaN   \n",
       "4                                                 NaN   \n",
       "5                                                 NaN   \n",
       "6   #Conte è un pericolo per la libertà e la democ...   \n",
       "7   Comunque, se tutti i giornalisti che oggi si s...   \n",
       "8                                                 NaN   \n",
       "9                                                 NaN   \n",
       "10  \"Ha suscitato scandalo la proposta di Salvini ...   \n",
       "11                                                NaN   \n",
       "12                                                NaN   \n",
       "13                                                NaN   \n",
       "14                                                NaN   \n",
       "15                                                NaN   \n",
       "16                                                NaN   \n",
       "17                                                NaN   \n",
       "18                                                NaN   \n",
       "19                                                NaN   \n",
       "\n",
       "                                             Stralcio  \\\n",
       "0                        Dunque vediamo se ho capito:   \n",
       "1              Conte le canta a Salvini e alla Meloni   \n",
       "2   questi reagiscono e le cantano a loro volta a ...   \n",
       "3   Mentana si smarca da Conte e finisce con foto ...   \n",
       "4         Siamo tornati per un attimo alla normalità:   \n",
       "5                                meraviglia assoluta!   \n",
       "6   #Conte è un pericolo per la libertà e la democ...   \n",
       "7                                           Comunque,   \n",
       "8   se tutti i giornalisti che oggi si stracciano ...   \n",
       "9                forse oggi starebbero più tranquilli   \n",
       "10  Ha suscitato scandalo la proposta di Salvini d...   \n",
       "11  Non altrettanto scandalo aveva suscitato l’ide...   \n",
       "12  Il leader della Lega mescola certo con troppa ...   \n",
       "13   E le esigenze di distanziamento sociale rendo...   \n",
       "14   Ma le reazioni che ha ricevuto fanno riflettere.   \n",
       "15                                 , quasi sdegnate,    \n",
       "16  La paradossale verità è che oggi cultura e ind...   \n",
       "17  Il processo di secolarizzazione ha ormai espun...   \n",
       "18          , anche nel Paese più cattolico d’Europa,   \n",
       "19  , come se fosse un sentimento privato, rispett...   \n",
       "\n",
       "                  Repertorio  \n",
       "0   dichiarazione di intenti  \n",
       "1                    sancire  \n",
       "2            giustificazione  \n",
       "3                    sancire  \n",
       "4                   commento  \n",
       "5                   giudizio  \n",
       "6               non risposta  \n",
       "7                   commento  \n",
       "8                valutazione  \n",
       "9                possibilità  \n",
       "10                   sancire  \n",
       "11               valutazione  \n",
       "12                  conferma  \n",
       "13                  conferma  \n",
       "14              implicazione  \n",
       "15                  giudizio  \n",
       "16                  giudizio  \n",
       "17                   sancire  \n",
       "18            specificazione  \n",
       "19                  commento  "
      ]
     },
     "execution_count": 2,
     "metadata": {},
     "output_type": "execute_result"
    }
   ],
   "source": [
    "import pandas as pd\n",
    "\n",
    "df = pd.read_csv(\"RepML_original\\data\\processed\\clean\\hyperion.csv\", sep=',')\n",
    "df.head(20)"
   ]
  },
  {
   "cell_type": "code",
   "execution_count": 54,
   "metadata": {},
   "outputs": [
    {
     "data": {
      "text/html": [
       "<div>\n",
       "<style scoped>\n",
       "    .dataframe tbody tr th:only-of-type {\n",
       "        vertical-align: middle;\n",
       "    }\n",
       "\n",
       "    .dataframe tbody tr th {\n",
       "        vertical-align: top;\n",
       "    }\n",
       "\n",
       "    .dataframe thead th {\n",
       "        text-align: right;\n",
       "    }\n",
       "</style>\n",
       "<table border=\"1\" class=\"dataframe\">\n",
       "  <thead>\n",
       "    <tr style=\"text-align: right;\">\n",
       "      <th></th>\n",
       "      <th>stlen</th>\n",
       "    </tr>\n",
       "  </thead>\n",
       "  <tbody>\n",
       "    <tr>\n",
       "      <th>count</th>\n",
       "      <td>35148.000000</td>\n",
       "    </tr>\n",
       "    <tr>\n",
       "      <th>mean</th>\n",
       "      <td>34.972886</td>\n",
       "    </tr>\n",
       "    <tr>\n",
       "      <th>std</th>\n",
       "      <td>80.219531</td>\n",
       "    </tr>\n",
       "    <tr>\n",
       "      <th>min</th>\n",
       "      <td>1.000000</td>\n",
       "    </tr>\n",
       "    <tr>\n",
       "      <th>25%</th>\n",
       "      <td>9.000000</td>\n",
       "    </tr>\n",
       "    <tr>\n",
       "      <th>50%</th>\n",
       "      <td>17.000000</td>\n",
       "    </tr>\n",
       "    <tr>\n",
       "      <th>75%</th>\n",
       "      <td>30.000000</td>\n",
       "    </tr>\n",
       "    <tr>\n",
       "      <th>max</th>\n",
       "      <td>2559.000000</td>\n",
       "    </tr>\n",
       "  </tbody>\n",
       "</table>\n",
       "</div>"
      ],
      "text/plain": [
       "              stlen\n",
       "count  35148.000000\n",
       "mean      34.972886\n",
       "std       80.219531\n",
       "min        1.000000\n",
       "25%        9.000000\n",
       "50%       17.000000\n",
       "75%       30.000000\n",
       "max     2559.000000"
      ]
     },
     "execution_count": 54,
     "metadata": {},
     "output_type": "execute_result"
    }
   ],
   "source": [
    "df.describe()"
   ]
  },
  {
   "cell_type": "code",
   "execution_count": 50,
   "metadata": {},
   "outputs": [
    {
     "data": {
      "text/plain": [
       "<AxesSubplot:>"
      ]
     },
     "execution_count": 50,
     "metadata": {},
     "output_type": "execute_result"
    },
    {
     "data": {
      "image/png": "[encoded data removed]",
      "text/plain": [
       "<Figure size 432x288 with 1 Axes>"
      ]
     },
     "metadata": {
      "needs_background": "light"
     },
     "output_type": "display_data"
    }
   ],
   "source": [
    "df['stlen'] = df.Stralcio.apply(lambda x: len(x.split()))\n",
    "df.stlen.hist()"
   ]
  },
  {
   "cell_type": "code",
   "execution_count": 52,
   "metadata": {},
   "outputs": [
    {
     "data": {
      "text/plain": [
       "descrizione                 1863\n",
       "commento                     211\n",
       "valutazione                  193\n",
       "sancire                      178\n",
       "generalizzazione             104\n",
       "giudizio                      90\n",
       "considerazione                76\n",
       "non risposta                  68\n",
       "contrapposizione              37\n",
       "specificazione                34\n",
       "opinione                      33\n",
       "prescrizione                  31\n",
       "dichiarazione di intenti      27\n",
       "deresponsabilizzazione        24\n",
       "ridimensionamento             21\n",
       "previsione                    20\n",
       "conferma                      15\n",
       "possibilità                   14\n",
       "giustificazione               12\n",
       "proposta                      11\n",
       "implicazione                  10\n",
       "causa                          6\n",
       "anticipazione                  4\n",
       "Name: Repertorio, dtype: int64"
      ]
     },
     "execution_count": 52,
     "metadata": {},
     "output_type": "execute_result"
    }
   ],
   "source": [
    "df[df.stlen > 64].Repertorio.value_counts()"
   ]
  },
  {
   "cell_type": "code",
   "execution_count": 55,
   "metadata": {},
   "outputs": [
    {
     "data": {
      "text/plain": [
       "<AxesSubplot:>"
      ]
     },
     "execution_count": 55,
     "metadata": {},
     "output_type": "execute_result"
    },
    {
     "data": {
      "image/png": "[encoded data removed]",
      "text/plain": [
       "<Figure size 432x288 with 1 Axes>"
      ]
     },
     "metadata": {
      "needs_background": "light"
     },
     "output_type": "display_data"
    }
   ],
   "source": [
    "df[df.stlen <= 64].stlen.hist()"
   ]
  },
  {
   "cell_type": "code",
   "execution_count": 60,
   "metadata": {},
   "outputs": [],
   "source": [
    "df = df[df.stlen <= 64]"
   ]
  },
  {
   "cell_type": "code",
   "execution_count": null,
   "metadata": {},
   "outputs": [],
   "source": []
  },
  {
   "cell_type": "code",
   "execution_count": 3,
   "metadata": {
    "id": "BdWV6EjH-gHX"
   },
   "outputs": [],
   "source": [
    "text = []\n",
    "repertoirs = []\n",
    "reps = 0\n",
    "for index, row in df.iterrows():\n",
    "    if not (pd.isna(row['Testo'])):\n",
    "        if reps != 0:\n",
    "            repertoirs.append(reps)\n",
    "        text.append(row['Testo'])\n",
    "        reps = []\n",
    "    if row['Stralcio'] in text[-1]:\n",
    "        reps.append(row['Repertorio'])\n",
    "repertoirs.append(reps)"
   ]
  },
  {
   "cell_type": "code",
   "execution_count": 40,
   "metadata": {
    "colab": {
     "base_uri": "https://localhost:8080/",
     "height": 206
    },
    "id": "fLLOVDVM-f8P",
    "outputId": "317573a8-a839-404b-c215-92928c81ab5f"
   },
   "outputs": [
    {
     "data": {
      "text/html": [
       "<div>\n",
       "<style scoped>\n",
       "    .dataframe tbody tr th:only-of-type {\n",
       "        vertical-align: middle;\n",
       "    }\n",
       "\n",
       "    .dataframe tbody tr th {\n",
       "        vertical-align: top;\n",
       "    }\n",
       "\n",
       "    .dataframe thead th {\n",
       "        text-align: right;\n",
       "    }\n",
       "</style>\n",
       "<table border=\"1\" class=\"dataframe\">\n",
       "  <thead>\n",
       "    <tr style=\"text-align: right;\">\n",
       "      <th></th>\n",
       "      <th>text</th>\n",
       "      <th>repertoirs</th>\n",
       "    </tr>\n",
       "  </thead>\n",
       "  <tbody>\n",
       "    <tr>\n",
       "      <th>0</th>\n",
       "      <td>Dunque vediamo se ho capito: Conte le canta a ...</td>\n",
       "      <td>[dichiarazione di intenti, sancire, giustifica...</td>\n",
       "    </tr>\n",
       "    <tr>\n",
       "      <th>1</th>\n",
       "      <td>#Conte è un pericolo per la libertà e la democ...</td>\n",
       "      <td>[non risposta]</td>\n",
       "    </tr>\n",
       "    <tr>\n",
       "      <th>2</th>\n",
       "      <td>Comunque, se tutti i giornalisti che oggi si s...</td>\n",
       "      <td>[commento, possibilità]</td>\n",
       "    </tr>\n",
       "    <tr>\n",
       "      <th>3</th>\n",
       "      <td>\"Ha suscitato scandalo la proposta di Salvini ...</td>\n",
       "      <td>[sancire, valutazione, conferma, conferma, giu...</td>\n",
       "    </tr>\n",
       "    <tr>\n",
       "      <th>4</th>\n",
       "      <td>Non era mai successo nella lunga storia del Pi...</td>\n",
       "      <td>[sancire, specificazione, conferma, causa, cau...</td>\n",
       "    </tr>\n",
       "  </tbody>\n",
       "</table>\n",
       "</div>"
      ],
      "text/plain": [
       "                                                text  \\\n",
       "0  Dunque vediamo se ho capito: Conte le canta a ...   \n",
       "1  #Conte è un pericolo per la libertà e la democ...   \n",
       "2  Comunque, se tutti i giornalisti che oggi si s...   \n",
       "3  \"Ha suscitato scandalo la proposta di Salvini ...   \n",
       "4  Non era mai successo nella lunga storia del Pi...   \n",
       "\n",
       "                                          repertoirs  \n",
       "0  [dichiarazione di intenti, sancire, giustifica...  \n",
       "1                                     [non risposta]  \n",
       "2                            [commento, possibilità]  \n",
       "3  [sancire, valutazione, conferma, conferma, giu...  \n",
       "4  [sancire, specificazione, conferma, causa, cau...  "
      ]
     },
     "execution_count": 40,
     "metadata": {},
     "output_type": "execute_result"
    }
   ],
   "source": [
    "df1 = pd.DataFrame({'text': text, 'repertoirs': repertoirs})\n",
    "df1.head()"
   ]
  },
  {
   "cell_type": "code",
   "execution_count": 41,
   "metadata": {
    "id": "X8IfVbUoYd4A"
   },
   "outputs": [],
   "source": [
    "df1['textlen'] = df1.text.apply(lambda x: len(x.split()))"
   ]
  },
  {
   "cell_type": "code",
   "execution_count": 42,
   "metadata": {
    "id": "tCzFE5hrY73B"
   },
   "outputs": [],
   "source": [
    "#df1 = df1[df1.textlen <= 64]\n",
    "df1 = df1[df1.textlen > 64]"
   ]
  },
  {
   "cell_type": "code",
   "execution_count": 43,
   "metadata": {},
   "outputs": [
    {
     "data": {
      "text/plain": [
       "3151"
      ]
     },
     "execution_count": 43,
     "metadata": {},
     "output_type": "execute_result"
    }
   ],
   "source": [
    "len(df1)"
   ]
  },
  {
   "cell_type": "code",
   "execution_count": 44,
   "metadata": {
    "colab": {
     "base_uri": "https://localhost:8080/",
     "height": 282
    },
    "id": "0BrgYWDy-f4p",
    "outputId": "f9ac69f8-55e1-439c-b725-0336fcb3c6c6"
   },
   "outputs": [
    {
     "data": {
      "text/plain": [
       "<AxesSubplot:>"
      ]
     },
     "execution_count": 44,
     "metadata": {},
     "output_type": "execute_result"
    },
    {
     "data": {
      "image/png": "[encoded data removed]",
      "text/plain": [
       "<Figure size 432x288 with 1 Axes>"
      ]
     },
     "metadata": {
      "needs_background": "light"
     },
     "output_type": "display_data"
    }
   ],
   "source": [
    "df1['num_rep'] = df1.repertoirs.apply(lambda x: len(x))\n",
    "df1.num_rep.hist(bins=20)"
   ]
  },
  {
   "cell_type": "code",
   "execution_count": 14,
   "metadata": {
    "id": "JG3pdyQScBYe"
   },
   "outputs": [],
   "source": [
    "df1 = df1[df1.num_rep != 0]"
   ]
  },
  {
   "cell_type": "code",
   "execution_count": 15,
   "metadata": {
    "colab": {
     "base_uri": "https://localhost:8080/"
    },
    "id": "N9rPOYE1b-2f",
    "outputId": "eb9e5000-894d-4008-8fa3-97e3196609b4"
   },
   "outputs": [
    {
     "data": {
      "text/plain": [
       "12141"
      ]
     },
     "execution_count": 15,
     "metadata": {},
     "output_type": "execute_result"
    }
   ],
   "source": [
    "len(df1)"
   ]
  },
  {
   "cell_type": "code",
   "execution_count": 16,
   "metadata": {
    "colab": {
     "base_uri": "https://localhost:8080/"
    },
    "id": "uEfykmJ8SOaK",
    "outputId": "e67055d8-d161-43ed-9a3e-5fdb86c13bac"
   },
   "outputs": [
    {
     "data": {
      "text/plain": [
       "10"
      ]
     },
     "execution_count": 16,
     "metadata": {},
     "output_type": "execute_result"
    }
   ],
   "source": [
    "max(df1.num_rep)"
   ]
  },
  {
   "cell_type": "code",
   "execution_count": 17,
   "metadata": {
    "colab": {
     "base_uri": "https://localhost:8080/",
     "height": 81
    },
    "id": "1ud3pig7SnBD",
    "outputId": "51abad10-ec0d-4f5d-aa24-ae390ff693e0"
   },
   "outputs": [
    {
     "data": {
      "text/html": [
       "<div>\n",
       "<style scoped>\n",
       "    .dataframe tbody tr th:only-of-type {\n",
       "        vertical-align: middle;\n",
       "    }\n",
       "\n",
       "    .dataframe tbody tr th {\n",
       "        vertical-align: top;\n",
       "    }\n",
       "\n",
       "    .dataframe thead th {\n",
       "        text-align: right;\n",
       "    }\n",
       "</style>\n",
       "<table border=\"1\" class=\"dataframe\">\n",
       "  <thead>\n",
       "    <tr style=\"text-align: right;\">\n",
       "      <th></th>\n",
       "      <th>text</th>\n",
       "      <th>repertoirs</th>\n",
       "      <th>textlen</th>\n",
       "      <th>num_rep</th>\n",
       "    </tr>\n",
       "  </thead>\n",
       "  <tbody>\n",
       "    <tr>\n",
       "      <th>8389</th>\n",
       "      <td>Grazie Giulia. Al Tg ho visto si comincia a pa...</td>\n",
       "      <td>[generalizzazione, descrizione, ridimensioname...</td>\n",
       "      <td>63</td>\n",
       "      <td>10</td>\n",
       "    </tr>\n",
       "    <tr>\n",
       "      <th>10366</th>\n",
       "      <td>Zaia!!!!! Si concentri sulle cure, ci sono sa?...</td>\n",
       "      <td>[deresponsabilizzazione, prescrizione, giustif...</td>\n",
       "      <td>44</td>\n",
       "      <td>10</td>\n",
       "    </tr>\n",
       "  </tbody>\n",
       "</table>\n",
       "</div>"
      ],
      "text/plain": [
       "                                                    text  \\\n",
       "8389   Grazie Giulia. Al Tg ho visto si comincia a pa...   \n",
       "10366  Zaia!!!!! Si concentri sulle cure, ci sono sa?...   \n",
       "\n",
       "                                              repertoirs  textlen  num_rep  \n",
       "8389   [generalizzazione, descrizione, ridimensioname...       63       10  \n",
       "10366  [deresponsabilizzazione, prescrizione, giustif...       44       10  "
      ]
     },
     "execution_count": 17,
     "metadata": {},
     "output_type": "execute_result"
    }
   ],
   "source": [
    "df1[df1.num_rep == 10]"
   ]
  },
  {
   "cell_type": "code",
   "execution_count": 18,
   "metadata": {
    "colab": {
     "base_uri": "https://localhost:8080/",
     "height": 81
    },
    "id": "yRwwoXM9ZHdf",
    "outputId": "e4d94fbe-931a-47bc-81cc-63bd87bcc623"
   },
   "outputs": [
    {
     "data": {
      "text/html": [
       "<div>\n",
       "<style scoped>\n",
       "    .dataframe tbody tr th:only-of-type {\n",
       "        vertical-align: middle;\n",
       "    }\n",
       "\n",
       "    .dataframe tbody tr th {\n",
       "        vertical-align: top;\n",
       "    }\n",
       "\n",
       "    .dataframe thead th {\n",
       "        text-align: right;\n",
       "    }\n",
       "</style>\n",
       "<table border=\"1\" class=\"dataframe\">\n",
       "  <thead>\n",
       "    <tr style=\"text-align: right;\">\n",
       "      <th></th>\n",
       "      <th>text</th>\n",
       "      <th>repertoirs</th>\n",
       "      <th>textlen</th>\n",
       "      <th>num_rep</th>\n",
       "    </tr>\n",
       "  </thead>\n",
       "  <tbody>\n",
       "    <tr>\n",
       "      <th>8389</th>\n",
       "      <td>Grazie Giulia. Al Tg ho visto si comincia a pa...</td>\n",
       "      <td>[generalizzazione, descrizione, ridimensioname...</td>\n",
       "      <td>63</td>\n",
       "      <td>10</td>\n",
       "    </tr>\n",
       "  </tbody>\n",
       "</table>\n",
       "</div>"
      ],
      "text/plain": [
       "                                                   text  \\\n",
       "8389  Grazie Giulia. Al Tg ho visto si comincia a pa...   \n",
       "\n",
       "                                             repertoirs  textlen  num_rep  \n",
       "8389  [generalizzazione, descrizione, ridimensioname...       63       10  "
      ]
     },
     "execution_count": 18,
     "metadata": {},
     "output_type": "execute_result"
    }
   ],
   "source": [
    "df1[df1.text == df1[df1.num_rep == 10].text[8389]]"
   ]
  },
  {
   "cell_type": "code",
   "execution_count": 19,
   "metadata": {
    "colab": {
     "base_uri": "https://localhost:8080/",
     "height": 81
    },
    "id": "oNllWb9aTr05",
    "outputId": "3079503e-9e73-48e4-b81e-93b64087a679"
   },
   "outputs": [
    {
     "data": {
      "text/html": [
       "<div>\n",
       "<style scoped>\n",
       "    .dataframe tbody tr th:only-of-type {\n",
       "        vertical-align: middle;\n",
       "    }\n",
       "\n",
       "    .dataframe tbody tr th {\n",
       "        vertical-align: top;\n",
       "    }\n",
       "\n",
       "    .dataframe thead th {\n",
       "        text-align: right;\n",
       "    }\n",
       "</style>\n",
       "<table border=\"1\" class=\"dataframe\">\n",
       "  <thead>\n",
       "    <tr style=\"text-align: right;\">\n",
       "      <th></th>\n",
       "      <th>Domanda</th>\n",
       "      <th>Testo</th>\n",
       "      <th>Stralcio</th>\n",
       "      <th>Repertorio</th>\n",
       "    </tr>\n",
       "  </thead>\n",
       "  <tbody>\n",
       "    <tr>\n",
       "      <th>21879</th>\n",
       "      <td>NaN</td>\n",
       "      <td>Grazie Giulia. Al Tg ho visto si comincia a pa...</td>\n",
       "      <td>Grazie Giulia.</td>\n",
       "      <td>generalizzazione</td>\n",
       "    </tr>\n",
       "  </tbody>\n",
       "</table>\n",
       "</div>"
      ],
      "text/plain": [
       "      Domanda                                              Testo  \\\n",
       "21879     NaN  Grazie Giulia. Al Tg ho visto si comincia a pa...   \n",
       "\n",
       "              Stralcio        Repertorio  \n",
       "21879  Grazie Giulia.   generalizzazione  "
      ]
     },
     "execution_count": 19,
     "metadata": {},
     "output_type": "execute_result"
    }
   ],
   "source": [
    "df[df.Testo == df1[df1.num_rep == 10].text[8389]]"
   ]
  },
  {
   "cell_type": "code",
   "execution_count": 20,
   "metadata": {
    "colab": {
     "base_uri": "https://localhost:8080/",
     "height": 1000
    },
    "id": "-48LHdjAS69j",
    "outputId": "ad29bd4c-d23d-4e75-c6f4-fd958b092231"
   },
   "outputs": [
    {
     "data": {
      "text/html": [
       "<div>\n",
       "<style scoped>\n",
       "    .dataframe tbody tr th:only-of-type {\n",
       "        vertical-align: middle;\n",
       "    }\n",
       "\n",
       "    .dataframe tbody tr th {\n",
       "        vertical-align: top;\n",
       "    }\n",
       "\n",
       "    .dataframe thead th {\n",
       "        text-align: right;\n",
       "    }\n",
       "</style>\n",
       "<table border=\"1\" class=\"dataframe\">\n",
       "  <thead>\n",
       "    <tr style=\"text-align: right;\">\n",
       "      <th></th>\n",
       "      <th>Domanda</th>\n",
       "      <th>Testo</th>\n",
       "      <th>Stralcio</th>\n",
       "      <th>Repertorio</th>\n",
       "    </tr>\n",
       "  </thead>\n",
       "  <tbody>\n",
       "    <tr>\n",
       "      <th>21879</th>\n",
       "      <td>NaN</td>\n",
       "      <td>Grazie Giulia. Al Tg ho visto si comincia a pa...</td>\n",
       "      <td>Grazie Giulia.</td>\n",
       "      <td>generalizzazione</td>\n",
       "    </tr>\n",
       "    <tr>\n",
       "      <th>21880</th>\n",
       "      <td>NaN</td>\n",
       "      <td>NaN</td>\n",
       "      <td>Al Tg ho visto si comincia a parlare anche del...</td>\n",
       "      <td>descrizione</td>\n",
       "    </tr>\n",
       "    <tr>\n",
       "      <th>21881</th>\n",
       "      <td>NaN</td>\n",
       "      <td>NaN</td>\n",
       "      <td>In alcuni ambienti, a mio avviso,</td>\n",
       "      <td>ridimensionamento</td>\n",
       "    </tr>\n",
       "    <tr>\n",
       "      <th>21882</th>\n",
       "      <td>NaN</td>\n",
       "      <td>NaN</td>\n",
       "      <td>dovrebbero renderle obbligatorie,</td>\n",
       "      <td>prescrizione</td>\n",
       "    </tr>\n",
       "    <tr>\n",
       "      <th>21883</th>\n",
       "      <td>NaN</td>\n",
       "      <td>NaN</td>\n",
       "      <td>sui mezzi di trasporto o nelle sale d' aspett...</td>\n",
       "      <td>specificazione</td>\n",
       "    </tr>\n",
       "    <tr>\n",
       "      <th>21884</th>\n",
       "      <td>NaN</td>\n",
       "      <td>NaN</td>\n",
       "      <td>spero presto.</td>\n",
       "      <td>commento</td>\n",
       "    </tr>\n",
       "    <tr>\n",
       "      <th>21885</th>\n",
       "      <td>NaN</td>\n",
       "      <td>NaN</td>\n",
       "      <td>P.S.</td>\n",
       "      <td>ridimensionamento</td>\n",
       "    </tr>\n",
       "    <tr>\n",
       "      <th>21886</th>\n",
       "      <td>NaN</td>\n",
       "      <td>NaN</td>\n",
       "      <td>spero la zona arancio continui per molto tempo...</td>\n",
       "      <td>descrizione</td>\n",
       "    </tr>\n",
       "    <tr>\n",
       "      <th>21887</th>\n",
       "      <td>NaN</td>\n",
       "      <td>NaN</td>\n",
       "      <td>Ma rt del Veneto, ti risulta 0,81???</td>\n",
       "      <td>ridimensionamento</td>\n",
       "    </tr>\n",
       "    <tr>\n",
       "      <th>21888</th>\n",
       "      <td>NaN</td>\n",
       "      <td>NaN</td>\n",
       "      <td>Buona serata.</td>\n",
       "      <td>generalizzazione</td>\n",
       "    </tr>\n",
       "    <tr>\n",
       "      <th>21889</th>\n",
       "      <td>NaN</td>\n",
       "      <td>Grande dott.sa Borile. Il conguagliedì 1 del m...</td>\n",
       "      <td>Grande dott.sa Borile.</td>\n",
       "      <td>giudizio</td>\n",
       "    </tr>\n",
       "    <tr>\n",
       "      <th>21890</th>\n",
       "      <td>NaN</td>\n",
       "      <td>NaN</td>\n",
       "      <td>Il conguagliedì 1 del martedì ha normalmente u...</td>\n",
       "      <td>descrizione</td>\n",
       "    </tr>\n",
       "    <tr>\n",
       "      <th>21891</th>\n",
       "      <td>NaN</td>\n",
       "      <td>NaN</td>\n",
       "      <td>Almeno così pare nelle ultime settimane.</td>\n",
       "      <td>ridimensionamento</td>\n",
       "    </tr>\n",
       "    <tr>\n",
       "      <th>21892</th>\n",
       "      <td>NaN</td>\n",
       "      <td>NaN</td>\n",
       "      <td>Comunque gli sfortunati che se ne sono andati ...</td>\n",
       "      <td>giudizio</td>\n",
       "    </tr>\n",
       "    <tr>\n",
       "      <th>21893</th>\n",
       "      <td>NaN</td>\n",
       "      <td>NaN</td>\n",
       "      <td>Dai che</td>\n",
       "      <td>sancire</td>\n",
       "    </tr>\n",
       "    <tr>\n",
       "      <th>21894</th>\n",
       "      <td>NaN</td>\n",
       "      <td>NaN</td>\n",
       "      <td>se per la prossima settimana abbiamo fatto un ...</td>\n",
       "      <td>ridimensionamento</td>\n",
       "    </tr>\n",
       "    <tr>\n",
       "      <th>21895</th>\n",
       "      <td>NaN</td>\n",
       "      <td>NaN</td>\n",
       "      <td>forse partiamo con qualche difficoltà in meno.</td>\n",
       "      <td>possibilità</td>\n",
       "    </tr>\n",
       "    <tr>\n",
       "      <th>21896</th>\n",
       "      <td>NaN</td>\n",
       "      <td>NaN</td>\n",
       "      <td>A proposito di vaccini</td>\n",
       "      <td>ridimensionamento</td>\n",
       "    </tr>\n",
       "    <tr>\n",
       "      <th>21897</th>\n",
       "      <td>NaN</td>\n",
       "      <td>NaN</td>\n",
       "      <td>quanto sarebbe bello che avessimo qualcuno in ...</td>\n",
       "      <td>possibilità</td>\n",
       "    </tr>\n",
       "    <tr>\n",
       "      <th>21898</th>\n",
       "      <td>NaN</td>\n",
       "      <td>Covid: Veneto, +1.194 contagi e 75 decessi\\r\\n...</td>\n",
       "      <td>Covid: Veneto, +1.194 contagi e 75 decessi\\r\\n...</td>\n",
       "      <td>descrizione</td>\n",
       "    </tr>\n",
       "    <tr>\n",
       "      <th>21899</th>\n",
       "      <td>NaN</td>\n",
       "      <td>Covid, il Veneto resta in zona arancione: conf...</td>\n",
       "      <td>Covid, il Veneto resta in zona arancione: conf...</td>\n",
       "      <td>descrizione</td>\n",
       "    </tr>\n",
       "  </tbody>\n",
       "</table>\n",
       "</div>"
      ],
      "text/plain": [
       "      Domanda                                              Testo  \\\n",
       "21879     NaN  Grazie Giulia. Al Tg ho visto si comincia a pa...   \n",
       "21880     NaN                                                NaN   \n",
       "21881     NaN                                                NaN   \n",
       "21882     NaN                                                NaN   \n",
       "21883     NaN                                                NaN   \n",
       "21884     NaN                                                NaN   \n",
       "21885     NaN                                                NaN   \n",
       "21886     NaN                                                NaN   \n",
       "21887     NaN                                                NaN   \n",
       "21888     NaN                                                NaN   \n",
       "21889     NaN  Grande dott.sa Borile. Il conguagliedì 1 del m...   \n",
       "21890     NaN                                                NaN   \n",
       "21891     NaN                                                NaN   \n",
       "21892     NaN                                                NaN   \n",
       "21893     NaN                                                NaN   \n",
       "21894     NaN                                                NaN   \n",
       "21895     NaN                                                NaN   \n",
       "21896     NaN                                                NaN   \n",
       "21897     NaN                                                NaN   \n",
       "21898     NaN  Covid: Veneto, +1.194 contagi e 75 decessi\\r\\n...   \n",
       "21899     NaN  Covid, il Veneto resta in zona arancione: conf...   \n",
       "\n",
       "                                                Stralcio         Repertorio  \n",
       "21879                                    Grazie Giulia.    generalizzazione  \n",
       "21880  Al Tg ho visto si comincia a parlare anche del...        descrizione  \n",
       "21881                  In alcuni ambienti, a mio avviso,  ridimensionamento  \n",
       "21882                  dovrebbero renderle obbligatorie,       prescrizione  \n",
       "21883   sui mezzi di trasporto o nelle sale d' aspett...     specificazione  \n",
       "21884                                      spero presto.           commento  \n",
       "21885                                              P.S.   ridimensionamento  \n",
       "21886  spero la zona arancio continui per molto tempo...        descrizione  \n",
       "21887              Ma rt del Veneto, ti risulta 0,81???   ridimensionamento  \n",
       "21888                                      Buona serata.   generalizzazione  \n",
       "21889                             Grande dott.sa Borile.           giudizio  \n",
       "21890  Il conguagliedì 1 del martedì ha normalmente u...        descrizione  \n",
       "21891          Almeno così pare nelle ultime settimane.   ridimensionamento  \n",
       "21892  Comunque gli sfortunati che se ne sono andati ...           giudizio  \n",
       "21893                                           Dai che             sancire  \n",
       "21894  se per la prossima settimana abbiamo fatto un ...  ridimensionamento  \n",
       "21895    forse partiamo con qualche difficoltà in meno.         possibilità  \n",
       "21896                            A proposito di vaccini   ridimensionamento  \n",
       "21897  quanto sarebbe bello che avessimo qualcuno in ...        possibilità  \n",
       "21898  Covid: Veneto, +1.194 contagi e 75 decessi\\r\\n...        descrizione  \n",
       "21899  Covid, il Veneto resta in zona arancione: conf...        descrizione  "
      ]
     },
     "execution_count": 20,
     "metadata": {},
     "output_type": "execute_result"
    }
   ],
   "source": [
    "df.iloc[21879:21900]"
   ]
  },
  {
   "cell_type": "code",
   "execution_count": null,
   "metadata": {
    "colab": {
     "base_uri": "https://localhost:8080/",
     "height": 424
    },
    "id": "nmxGg-yHHseT",
    "outputId": "edbf283c-130f-429c-9bb7-b0ec8a3690bb"
   },
   "outputs": [
    {
     "data": {
      "text/html": [
       "\n",
       "  <div id=\"df-9adb0ffe-eacd-46af-aea4-a0fc98f23de2\">\n",
       "    <div class=\"colab-df-container\">\n",
       "      <div>\n",
       "<style scoped>\n",
       "    .dataframe tbody tr th:only-of-type {\n",
       "        vertical-align: middle;\n",
       "    }\n",
       "\n",
       "    .dataframe tbody tr th {\n",
       "        vertical-align: top;\n",
       "    }\n",
       "\n",
       "    .dataframe thead th {\n",
       "        text-align: right;\n",
       "    }\n",
       "</style>\n",
       "<table border=\"1\" class=\"dataframe\">\n",
       "  <thead>\n",
       "    <tr style=\"text-align: right;\">\n",
       "      <th></th>\n",
       "      <th>text</th>\n",
       "      <th>repertoirs</th>\n",
       "      <th>textlen</th>\n",
       "      <th>num_rep</th>\n",
       "    </tr>\n",
       "  </thead>\n",
       "  <tbody>\n",
       "    <tr>\n",
       "      <th>5415</th>\n",
       "      <td>4 su 10 test rapidi sbagliano completamente l ...</td>\n",
       "      <td>[valutazione]</td>\n",
       "      <td>39</td>\n",
       "      <td>1</td>\n",
       "    </tr>\n",
       "    <tr>\n",
       "      <th>5396</th>\n",
       "      <td>4 su 10 test rapidi sbagliano completamente l ...</td>\n",
       "      <td>[valutazione, deresponsabilizzazione]</td>\n",
       "      <td>39</td>\n",
       "      <td>2</td>\n",
       "    </tr>\n",
       "    <tr>\n",
       "      <th>5729</th>\n",
       "      <td>@zaiapresidente Finora aveva dato prova di cap...</td>\n",
       "      <td>[giudizio, conferma, specificazione, prescrizi...</td>\n",
       "      <td>32</td>\n",
       "      <td>5</td>\n",
       "    </tr>\n",
       "    <tr>\n",
       "      <th>5711</th>\n",
       "      <td>@zaiapresidente Finora aveva dato prova di cap...</td>\n",
       "      <td>[giudizio, contrapposizione, prescrizione]</td>\n",
       "      <td>32</td>\n",
       "      <td>3</td>\n",
       "    </tr>\n",
       "    <tr>\n",
       "      <th>7612</th>\n",
       "      <td>A ieri, bollettino del sito Ministero della sa...</td>\n",
       "      <td>[commento]</td>\n",
       "      <td>47</td>\n",
       "      <td>1</td>\n",
       "    </tr>\n",
       "    <tr>\n",
       "      <th>...</th>\n",
       "      <td>...</td>\n",
       "      <td>...</td>\n",
       "      <td>...</td>\n",
       "      <td>...</td>\n",
       "    </tr>\n",
       "    <tr>\n",
       "      <th>3091</th>\n",
       "      <td>È un buona cosa, ma io non ci conterei più di ...</td>\n",
       "      <td>[contrapposizione, possibilità, sancire]</td>\n",
       "      <td>43</td>\n",
       "      <td>3</td>\n",
       "    </tr>\n",
       "    <tr>\n",
       "      <th>5002</th>\n",
       "      <td>È un po’ tardi per lanciare questo messaggio d...</td>\n",
       "      <td>[valutazione, giudizio]</td>\n",
       "      <td>43</td>\n",
       "      <td>2</td>\n",
       "    </tr>\n",
       "    <tr>\n",
       "      <th>5121</th>\n",
       "      <td>È un po’ tardi per lanciare questo messaggio d...</td>\n",
       "      <td>[sancire]</td>\n",
       "      <td>43</td>\n",
       "      <td>1</td>\n",
       "    </tr>\n",
       "    <tr>\n",
       "      <th>6181</th>\n",
       "      <td>È una disordinanza ....un idiozia “innovativa”...</td>\n",
       "      <td>[commento]</td>\n",
       "      <td>37</td>\n",
       "      <td>1</td>\n",
       "    </tr>\n",
       "    <tr>\n",
       "      <th>6230</th>\n",
       "      <td>È una disordinanza ....un idiozia “innovativa”...</td>\n",
       "      <td>[commento, sancire]</td>\n",
       "      <td>37</td>\n",
       "      <td>2</td>\n",
       "    </tr>\n",
       "  </tbody>\n",
       "</table>\n",
       "<p>163 rows × 4 columns</p>\n",
       "</div>\n",
       "      <button class=\"colab-df-convert\" onclick=\"convertToInteractive('df-9adb0ffe-eacd-46af-aea4-a0fc98f23de2')\"\n",
       "              title=\"Convert this dataframe to an interactive table.\"\n",
       "              style=\"display:none;\">\n",
       "        \n",
       "  <svg xmlns=\"http://www.w3.org/2000/svg\" height=\"24px\"viewBox=\"0 0 24 24\"\n",
       "       width=\"24px\">\n",
       "    <path d=\"M0 0h24v24H0V0z\" fill=\"none\"/>\n",
       "    <path d=\"M18.56 5.44l.94 2.06.94-2.06 2.06-.94-2.06-.94-.94-2.06-.94 2.06-2.06.94zm-11 1L8.5 8.5l.94-2.06 2.06-.94-2.06-.94L8.5 2.5l-.94 2.06-2.06.94zm10 10l.94 2.06.94-2.06 2.06-.94-2.06-.94-.94-2.06-.94 2.06-2.06.94z\"/><path d=\"M17.41 7.96l-1.37-1.37c-.4-.4-.92-.59-1.43-.59-.52 0-1.04.2-1.43.59L10.3 9.45l-7.72 7.72c-.78.78-.78 2.05 0 2.83L4 21.41c.39.39.9.59 1.41.59.51 0 1.02-.2 1.41-.59l7.78-7.78 2.81-2.81c.8-.78.8-2.07 0-2.86zM5.41 20L4 18.59l7.72-7.72 1.47 1.35L5.41 20z\"/>\n",
       "  </svg>\n",
       "      </button>\n",
       "      \n",
       "  <style>\n",
       "    .colab-df-container {\n",
       "      display:flex;\n",
       "      flex-wrap:wrap;\n",
       "      gap: 12px;\n",
       "    }\n",
       "\n",
       "    .colab-df-convert {\n",
       "      background-color: #E8F0FE;\n",
       "      border: none;\n",
       "      border-radius: 50%;\n",
       "      cursor: pointer;\n",
       "      display: none;\n",
       "      fill: #1967D2;\n",
       "      height: 32px;\n",
       "      padding: 0 0 0 0;\n",
       "      width: 32px;\n",
       "    }\n",
       "\n",
       "    .colab-df-convert:hover {\n",
       "      background-color: #E2EBFA;\n",
       "      box-shadow: 0px 1px 2px rgba(60, 64, 67, 0.3), 0px 1px 3px 1px rgba(60, 64, 67, 0.15);\n",
       "      fill: #174EA6;\n",
       "    }\n",
       "\n",
       "    [theme=dark] .colab-df-convert {\n",
       "      background-color: #3B4455;\n",
       "      fill: #D2E3FC;\n",
       "    }\n",
       "\n",
       "    [theme=dark] .colab-df-convert:hover {\n",
       "      background-color: #434B5C;\n",
       "      box-shadow: 0px 1px 3px 1px rgba(0, 0, 0, 0.15);\n",
       "      filter: drop-shadow(0px 1px 2px rgba(0, 0, 0, 0.3));\n",
       "      fill: #FFFFFF;\n",
       "    }\n",
       "  </style>\n",
       "\n",
       "      <script>\n",
       "        const buttonEl =\n",
       "          document.querySelector('#df-9adb0ffe-eacd-46af-aea4-a0fc98f23de2 button.colab-df-convert');\n",
       "        buttonEl.style.display =\n",
       "          google.colab.kernel.accessAllowed ? 'block' : 'none';\n",
       "\n",
       "        async function convertToInteractive(key) {\n",
       "          const element = document.querySelector('#df-9adb0ffe-eacd-46af-aea4-a0fc98f23de2');\n",
       "          const dataTable =\n",
       "            await google.colab.kernel.invokeFunction('convertToInteractive',\n",
       "                                                     [key], {});\n",
       "          if (!dataTable) return;\n",
       "\n",
       "          const docLinkHtml = 'Like what you see? Visit the ' +\n",
       "            '<a target=\"_blank\" href=https://colab.research.google.com/notebooks/data_table.ipynb>data table notebook</a>'\n",
       "            + ' to learn more about interactive tables.';\n",
       "          element.innerHTML = '';\n",
       "          dataTable['output_type'] = 'display_data';\n",
       "          await google.colab.output.renderOutput(dataTable, element);\n",
       "          const docLink = document.createElement('div');\n",
       "          docLink.innerHTML = docLinkHtml;\n",
       "          element.appendChild(docLink);\n",
       "        }\n",
       "      </script>\n",
       "    </div>\n",
       "  </div>\n",
       "  "
      ],
      "text/plain": [
       "                                                   text  \\\n",
       "5415  4 su 10 test rapidi sbagliano completamente l ...   \n",
       "5396  4 su 10 test rapidi sbagliano completamente l ...   \n",
       "5729  @zaiapresidente Finora aveva dato prova di cap...   \n",
       "5711  @zaiapresidente Finora aveva dato prova di cap...   \n",
       "7612  A ieri, bollettino del sito Ministero della sa...   \n",
       "...                                                 ...   \n",
       "3091  È un buona cosa, ma io non ci conterei più di ...   \n",
       "5002  È un po’ tardi per lanciare questo messaggio d...   \n",
       "5121  È un po’ tardi per lanciare questo messaggio d...   \n",
       "6181  È una disordinanza ....un idiozia “innovativa”...   \n",
       "6230  È una disordinanza ....un idiozia “innovativa”...   \n",
       "\n",
       "                                             repertoirs  textlen  num_rep  \n",
       "5415                                      [valutazione]       39        1  \n",
       "5396              [valutazione, deresponsabilizzazione]       39        2  \n",
       "5729  [giudizio, conferma, specificazione, prescrizi...       32        5  \n",
       "5711         [giudizio, contrapposizione, prescrizione]       32        3  \n",
       "7612                                         [commento]       47        1  \n",
       "...                                                 ...      ...      ...  \n",
       "3091           [contrapposizione, possibilità, sancire]       43        3  \n",
       "5002                            [valutazione, giudizio]       43        2  \n",
       "5121                                          [sancire]       43        1  \n",
       "6181                                         [commento]       37        1  \n",
       "6230                                [commento, sancire]       37        2  \n",
       "\n",
       "[163 rows x 4 columns]"
      ]
     },
     "execution_count": 15,
     "metadata": {},
     "output_type": "execute_result"
    }
   ],
   "source": [
    "dup = df1[df1['text'].duplicated(keep=False)].sort_values(by=['text'])\n",
    "dup"
   ]
  },
  {
   "cell_type": "code",
   "execution_count": null,
   "metadata": {
    "id": "jCtMy-jqIxVA"
   },
   "outputs": [],
   "source": [
    "dup['repertoirs_str'] = dup.repertoirs.apply(lambda x: ' '.join(x))"
   ]
  },
  {
   "cell_type": "code",
   "execution_count": null,
   "metadata": {
    "colab": {
     "base_uri": "https://localhost:8080/",
     "height": 641
    },
    "id": "ykB8h9EQMYwL",
    "outputId": "4daa35de-3c34-46d9-8800-b70ea30c72f4"
   },
   "outputs": [
    {
     "data": {
      "text/html": [
       "\n",
       "  <div id=\"df-cfbd2e90-1af1-4cd0-9fb0-d8579dfcd90d\">\n",
       "    <div class=\"colab-df-container\">\n",
       "      <div>\n",
       "<style scoped>\n",
       "    .dataframe tbody tr th:only-of-type {\n",
       "        vertical-align: middle;\n",
       "    }\n",
       "\n",
       "    .dataframe tbody tr th {\n",
       "        vertical-align: top;\n",
       "    }\n",
       "\n",
       "    .dataframe thead th {\n",
       "        text-align: right;\n",
       "    }\n",
       "</style>\n",
       "<table border=\"1\" class=\"dataframe\">\n",
       "  <thead>\n",
       "    <tr style=\"text-align: right;\">\n",
       "      <th></th>\n",
       "      <th>text</th>\n",
       "      <th>repertoirs</th>\n",
       "      <th>num_rep</th>\n",
       "      <th>textlen</th>\n",
       "      <th>repertoirs_str</th>\n",
       "    </tr>\n",
       "  </thead>\n",
       "  <tbody>\n",
       "    <tr>\n",
       "      <th>5415</th>\n",
       "      <td>4 su 10 test rapidi sbagliano completamente l ...</td>\n",
       "      <td>[valutazione]</td>\n",
       "      <td>1</td>\n",
       "      <td>39</td>\n",
       "      <td>valutazione</td>\n",
       "    </tr>\n",
       "    <tr>\n",
       "      <th>5396</th>\n",
       "      <td>4 su 10 test rapidi sbagliano completamente l ...</td>\n",
       "      <td>[valutazione, deresponsabilizzazione]</td>\n",
       "      <td>2</td>\n",
       "      <td>39</td>\n",
       "      <td>valutazione deresponsabilizzazione</td>\n",
       "    </tr>\n",
       "    <tr>\n",
       "      <th>5729</th>\n",
       "      <td>@zaiapresidente Finora aveva dato prova di cap...</td>\n",
       "      <td>[giudizio, conferma, specificazione, prescrizi...</td>\n",
       "      <td>5</td>\n",
       "      <td>32</td>\n",
       "      <td>giudizio conferma specificazione prescrizione ...</td>\n",
       "    </tr>\n",
       "    <tr>\n",
       "      <th>5711</th>\n",
       "      <td>@zaiapresidente Finora aveva dato prova di cap...</td>\n",
       "      <td>[giudizio, contrapposizione, prescrizione]</td>\n",
       "      <td>3</td>\n",
       "      <td>32</td>\n",
       "      <td>giudizio contrapposizione prescrizione</td>\n",
       "    </tr>\n",
       "    <tr>\n",
       "      <th>7361</th>\n",
       "      <td>Adesso io mi chiedo test rapidi, molecolari, s...</td>\n",
       "      <td>[generalizzazione]</td>\n",
       "      <td>1</td>\n",
       "      <td>92</td>\n",
       "      <td>generalizzazione</td>\n",
       "    </tr>\n",
       "    <tr>\n",
       "      <th>...</th>\n",
       "      <td>...</td>\n",
       "      <td>...</td>\n",
       "      <td>...</td>\n",
       "      <td>...</td>\n",
       "      <td>...</td>\n",
       "    </tr>\n",
       "    <tr>\n",
       "      <th>3091</th>\n",
       "      <td>È un buona cosa, ma io non ci conterei più di ...</td>\n",
       "      <td>[contrapposizione, possibilità, sancire]</td>\n",
       "      <td>3</td>\n",
       "      <td>43</td>\n",
       "      <td>contrapposizione possibilità sancire</td>\n",
       "    </tr>\n",
       "    <tr>\n",
       "      <th>5002</th>\n",
       "      <td>È un po’ tardi per lanciare questo messaggio d...</td>\n",
       "      <td>[valutazione, giudizio]</td>\n",
       "      <td>2</td>\n",
       "      <td>43</td>\n",
       "      <td>valutazione giudizio</td>\n",
       "    </tr>\n",
       "    <tr>\n",
       "      <th>5121</th>\n",
       "      <td>È un po’ tardi per lanciare questo messaggio d...</td>\n",
       "      <td>[sancire]</td>\n",
       "      <td>1</td>\n",
       "      <td>43</td>\n",
       "      <td>sancire</td>\n",
       "    </tr>\n",
       "    <tr>\n",
       "      <th>6181</th>\n",
       "      <td>È una disordinanza ....un idiozia “innovativa”...</td>\n",
       "      <td>[commento]</td>\n",
       "      <td>1</td>\n",
       "      <td>37</td>\n",
       "      <td>commento</td>\n",
       "    </tr>\n",
       "    <tr>\n",
       "      <th>6230</th>\n",
       "      <td>È una disordinanza ....un idiozia “innovativa”...</td>\n",
       "      <td>[commento, sancire]</td>\n",
       "      <td>2</td>\n",
       "      <td>37</td>\n",
       "      <td>commento sancire</td>\n",
       "    </tr>\n",
       "  </tbody>\n",
       "</table>\n",
       "<p>119 rows × 5 columns</p>\n",
       "</div>\n",
       "      <button class=\"colab-df-convert\" onclick=\"convertToInteractive('df-cfbd2e90-1af1-4cd0-9fb0-d8579dfcd90d')\"\n",
       "              title=\"Convert this dataframe to an interactive table.\"\n",
       "              style=\"display:none;\">\n",
       "        \n",
       "  <svg xmlns=\"http://www.w3.org/2000/svg\" height=\"24px\"viewBox=\"0 0 24 24\"\n",
       "       width=\"24px\">\n",
       "    <path d=\"M0 0h24v24H0V0z\" fill=\"none\"/>\n",
       "    <path d=\"M18.56 5.44l.94 2.06.94-2.06 2.06-.94-2.06-.94-.94-2.06-.94 2.06-2.06.94zm-11 1L8.5 8.5l.94-2.06 2.06-.94-2.06-.94L8.5 2.5l-.94 2.06-2.06.94zm10 10l.94 2.06.94-2.06 2.06-.94-2.06-.94-.94-2.06-.94 2.06-2.06.94z\"/><path d=\"M17.41 7.96l-1.37-1.37c-.4-.4-.92-.59-1.43-.59-.52 0-1.04.2-1.43.59L10.3 9.45l-7.72 7.72c-.78.78-.78 2.05 0 2.83L4 21.41c.39.39.9.59 1.41.59.51 0 1.02-.2 1.41-.59l7.78-7.78 2.81-2.81c.8-.78.8-2.07 0-2.86zM5.41 20L4 18.59l7.72-7.72 1.47 1.35L5.41 20z\"/>\n",
       "  </svg>\n",
       "      </button>\n",
       "      \n",
       "  <style>\n",
       "    .colab-df-container {\n",
       "      display:flex;\n",
       "      flex-wrap:wrap;\n",
       "      gap: 12px;\n",
       "    }\n",
       "\n",
       "    .colab-df-convert {\n",
       "      background-color: #E8F0FE;\n",
       "      border: none;\n",
       "      border-radius: 50%;\n",
       "      cursor: pointer;\n",
       "      display: none;\n",
       "      fill: #1967D2;\n",
       "      height: 32px;\n",
       "      padding: 0 0 0 0;\n",
       "      width: 32px;\n",
       "    }\n",
       "\n",
       "    .colab-df-convert:hover {\n",
       "      background-color: #E2EBFA;\n",
       "      box-shadow: 0px 1px 2px rgba(60, 64, 67, 0.3), 0px 1px 3px 1px rgba(60, 64, 67, 0.15);\n",
       "      fill: #174EA6;\n",
       "    }\n",
       "\n",
       "    [theme=dark] .colab-df-convert {\n",
       "      background-color: #3B4455;\n",
       "      fill: #D2E3FC;\n",
       "    }\n",
       "\n",
       "    [theme=dark] .colab-df-convert:hover {\n",
       "      background-color: #434B5C;\n",
       "      box-shadow: 0px 1px 3px 1px rgba(0, 0, 0, 0.15);\n",
       "      filter: drop-shadow(0px 1px 2px rgba(0, 0, 0, 0.3));\n",
       "      fill: #FFFFFF;\n",
       "    }\n",
       "  </style>\n",
       "\n",
       "      <script>\n",
       "        const buttonEl =\n",
       "          document.querySelector('#df-cfbd2e90-1af1-4cd0-9fb0-d8579dfcd90d button.colab-df-convert');\n",
       "        buttonEl.style.display =\n",
       "          google.colab.kernel.accessAllowed ? 'block' : 'none';\n",
       "\n",
       "        async function convertToInteractive(key) {\n",
       "          const element = document.querySelector('#df-cfbd2e90-1af1-4cd0-9fb0-d8579dfcd90d');\n",
       "          const dataTable =\n",
       "            await google.colab.kernel.invokeFunction('convertToInteractive',\n",
       "                                                     [key], {});\n",
       "          if (!dataTable) return;\n",
       "\n",
       "          const docLinkHtml = 'Like what you see? Visit the ' +\n",
       "            '<a target=\"_blank\" href=https://colab.research.google.com/notebooks/data_table.ipynb>data table notebook</a>'\n",
       "            + ' to learn more about interactive tables.';\n",
       "          element.innerHTML = '';\n",
       "          dataTable['output_type'] = 'display_data';\n",
       "          await google.colab.output.renderOutput(dataTable, element);\n",
       "          const docLink = document.createElement('div');\n",
       "          docLink.innerHTML = docLinkHtml;\n",
       "          element.appendChild(docLink);\n",
       "        }\n",
       "      </script>\n",
       "    </div>\n",
       "  </div>\n",
       "  "
      ],
      "text/plain": [
       "                                                   text  \\\n",
       "5415  4 su 10 test rapidi sbagliano completamente l ...   \n",
       "5396  4 su 10 test rapidi sbagliano completamente l ...   \n",
       "5729  @zaiapresidente Finora aveva dato prova di cap...   \n",
       "5711  @zaiapresidente Finora aveva dato prova di cap...   \n",
       "7361  Adesso io mi chiedo test rapidi, molecolari, s...   \n",
       "...                                                 ...   \n",
       "3091  È un buona cosa, ma io non ci conterei più di ...   \n",
       "5002  È un po’ tardi per lanciare questo messaggio d...   \n",
       "5121  È un po’ tardi per lanciare questo messaggio d...   \n",
       "6181  È una disordinanza ....un idiozia “innovativa”...   \n",
       "6230  È una disordinanza ....un idiozia “innovativa”...   \n",
       "\n",
       "                                             repertoirs  num_rep  textlen  \\\n",
       "5415                                      [valutazione]        1       39   \n",
       "5396              [valutazione, deresponsabilizzazione]        2       39   \n",
       "5729  [giudizio, conferma, specificazione, prescrizi...        5       32   \n",
       "5711         [giudizio, contrapposizione, prescrizione]        3       32   \n",
       "7361                                 [generalizzazione]        1       92   \n",
       "...                                                 ...      ...      ...   \n",
       "3091           [contrapposizione, possibilità, sancire]        3       43   \n",
       "5002                            [valutazione, giudizio]        2       43   \n",
       "5121                                          [sancire]        1       43   \n",
       "6181                                         [commento]        1       37   \n",
       "6230                                [commento, sancire]        2       37   \n",
       "\n",
       "                                         repertoirs_str  \n",
       "5415                                        valutazione  \n",
       "5396                 valutazione deresponsabilizzazione  \n",
       "5729  giudizio conferma specificazione prescrizione ...  \n",
       "5711             giudizio contrapposizione prescrizione  \n",
       "7361                                   generalizzazione  \n",
       "...                                                 ...  \n",
       "3091               contrapposizione possibilità sancire  \n",
       "5002                               valutazione giudizio  \n",
       "5121                                            sancire  \n",
       "6181                                           commento  \n",
       "6230                                   commento sancire  \n",
       "\n",
       "[119 rows x 5 columns]"
      ]
     },
     "execution_count": 65,
     "metadata": {},
     "output_type": "execute_result"
    }
   ],
   "source": [
    "m1 = ~dup.duplicated(['text', 'repertoirs_str'], keep=False)\n",
    "m2 = dup.duplicated(['text'], keep=False)\n",
    "dup[m1 & m2]"
   ]
  },
  {
   "cell_type": "code",
   "execution_count": 45,
   "metadata": {
    "id": "-rvaCOn_Q74w"
   },
   "outputs": [],
   "source": [
    "labels = {\n",
    "    'anticipazione': [],\n",
    "    'causa': [],\n",
    "    'commento': [],\n",
    "    'conferma': [],\n",
    "    'considerazione': [],\n",
    "    'contrapposizione': [],\n",
    "    'deresponsabilizzazione': [],\n",
    "    'descrizione': [],\n",
    "    'dichiarazione di intenti': [],\n",
    "    'generalizzazione': [],\n",
    "    'giudizio': [],\n",
    "    'giustificazione': [],\n",
    "    'implicazione': [],\n",
    "    'non risposta': [],\n",
    "    'opinione': [],\n",
    "    'possibilità': [],\n",
    "    'prescrizione': [],\n",
    "    'previsione': [],\n",
    "    'proposta': [],\n",
    "    'ridimensionamento': [],\n",
    "    'sancire': [],\n",
    "    'specificazione': [],\n",
    "    'valutazione': []\n",
    "}\n",
    "\n",
    "for index, row in df1.iterrows():\n",
    "    for key in labels:\n",
    "        if key in row['repertoirs']:\n",
    "            labels[key].append(1)\n",
    "        else:\n",
    "            labels[key].append(0)"
   ]
  },
  {
   "cell_type": "code",
   "execution_count": 46,
   "metadata": {
    "colab": {
     "base_uri": "https://localhost:8080/"
    },
    "id": "CY22Tfa3gv0e",
    "outputId": "479421e5-a7fb-44fc-a6f1-7482d653ae75"
   },
   "outputs": [],
   "source": [
    "for key in labels:\n",
    "    df1[key] = labels[key]"
   ]
  },
  {
   "cell_type": "code",
   "execution_count": 47,
   "metadata": {
    "colab": {
     "base_uri": "https://localhost:8080/",
     "height": 382
    },
    "id": "TvUlWw0_g8Zv",
    "outputId": "19aabf41-2b47-4b4e-bce4-b3e00e83c5f1"
   },
   "outputs": [
    {
     "data": {
      "text/html": [
       "<div>\n",
       "<style scoped>\n",
       "    .dataframe tbody tr th:only-of-type {\n",
       "        vertical-align: middle;\n",
       "    }\n",
       "\n",
       "    .dataframe tbody tr th {\n",
       "        vertical-align: top;\n",
       "    }\n",
       "\n",
       "    .dataframe thead th {\n",
       "        text-align: right;\n",
       "    }\n",
       "</style>\n",
       "<table border=\"1\" class=\"dataframe\">\n",
       "  <thead>\n",
       "    <tr style=\"text-align: right;\">\n",
       "      <th></th>\n",
       "      <th>textlen</th>\n",
       "      <th>num_rep</th>\n",
       "      <th>anticipazione</th>\n",
       "      <th>causa</th>\n",
       "      <th>commento</th>\n",
       "      <th>conferma</th>\n",
       "      <th>considerazione</th>\n",
       "      <th>contrapposizione</th>\n",
       "      <th>deresponsabilizzazione</th>\n",
       "      <th>descrizione</th>\n",
       "      <th>dichiarazione di intenti</th>\n",
       "      <th>generalizzazione</th>\n",
       "      <th>giudizio</th>\n",
       "      <th>giustificazione</th>\n",
       "      <th>implicazione</th>\n",
       "      <th>non risposta</th>\n",
       "      <th>opinione</th>\n",
       "      <th>possibilità</th>\n",
       "      <th>prescrizione</th>\n",
       "      <th>previsione</th>\n",
       "      <th>proposta</th>\n",
       "      <th>ridimensionamento</th>\n",
       "      <th>sancire</th>\n",
       "      <th>specificazione</th>\n",
       "      <th>valutazione</th>\n",
       "    </tr>\n",
       "  </thead>\n",
       "  <tbody>\n",
       "    <tr>\n",
       "      <th>count</th>\n",
       "      <td>3151.000000</td>\n",
       "      <td>3151.000000</td>\n",
       "      <td>3151.000000</td>\n",
       "      <td>3151.000000</td>\n",
       "      <td>3151.000000</td>\n",
       "      <td>3151.000000</td>\n",
       "      <td>3151.000000</td>\n",
       "      <td>3151.000000</td>\n",
       "      <td>3151.000000</td>\n",
       "      <td>3151.000000</td>\n",
       "      <td>3151.000000</td>\n",
       "      <td>3151.000000</td>\n",
       "      <td>3151.000000</td>\n",
       "      <td>3151.000000</td>\n",
       "      <td>3151.000000</td>\n",
       "      <td>3151.000000</td>\n",
       "      <td>3151.000000</td>\n",
       "      <td>3151.000000</td>\n",
       "      <td>3151.000000</td>\n",
       "      <td>3151.000000</td>\n",
       "      <td>3151.000000</td>\n",
       "      <td>3151.000000</td>\n",
       "      <td>3151.000000</td>\n",
       "      <td>3151.000000</td>\n",
       "      <td>3151.000000</td>\n",
       "    </tr>\n",
       "    <tr>\n",
       "      <th>mean</th>\n",
       "      <td>270.582355</td>\n",
       "      <td>3.853063</td>\n",
       "      <td>0.008886</td>\n",
       "      <td>0.050778</td>\n",
       "      <td>0.189146</td>\n",
       "      <td>0.066328</td>\n",
       "      <td>0.046334</td>\n",
       "      <td>0.101872</td>\n",
       "      <td>0.031101</td>\n",
       "      <td>0.570295</td>\n",
       "      <td>0.081561</td>\n",
       "      <td>0.072675</td>\n",
       "      <td>0.173913</td>\n",
       "      <td>0.032053</td>\n",
       "      <td>0.077436</td>\n",
       "      <td>0.049191</td>\n",
       "      <td>0.104411</td>\n",
       "      <td>0.067598</td>\n",
       "      <td>0.113615</td>\n",
       "      <td>0.108537</td>\n",
       "      <td>0.025706</td>\n",
       "      <td>0.099651</td>\n",
       "      <td>0.303078</td>\n",
       "      <td>0.146303</td>\n",
       "      <td>0.182164</td>\n",
       "    </tr>\n",
       "    <tr>\n",
       "      <th>std</th>\n",
       "      <td>250.384602</td>\n",
       "      <td>5.327526</td>\n",
       "      <td>0.093861</td>\n",
       "      <td>0.219578</td>\n",
       "      <td>0.391687</td>\n",
       "      <td>0.248894</td>\n",
       "      <td>0.210242</td>\n",
       "      <td>0.302528</td>\n",
       "      <td>0.173619</td>\n",
       "      <td>0.495113</td>\n",
       "      <td>0.273739</td>\n",
       "      <td>0.259644</td>\n",
       "      <td>0.379095</td>\n",
       "      <td>0.176170</td>\n",
       "      <td>0.267324</td>\n",
       "      <td>0.216300</td>\n",
       "      <td>0.305842</td>\n",
       "      <td>0.251094</td>\n",
       "      <td>0.317393</td>\n",
       "      <td>0.311107</td>\n",
       "      <td>0.158282</td>\n",
       "      <td>0.299582</td>\n",
       "      <td>0.459662</td>\n",
       "      <td>0.353466</td>\n",
       "      <td>0.386041</td>\n",
       "    </tr>\n",
       "    <tr>\n",
       "      <th>min</th>\n",
       "      <td>65.000000</td>\n",
       "      <td>0.000000</td>\n",
       "      <td>0.000000</td>\n",
       "      <td>0.000000</td>\n",
       "      <td>0.000000</td>\n",
       "      <td>0.000000</td>\n",
       "      <td>0.000000</td>\n",
       "      <td>0.000000</td>\n",
       "      <td>0.000000</td>\n",
       "      <td>0.000000</td>\n",
       "      <td>0.000000</td>\n",
       "      <td>0.000000</td>\n",
       "      <td>0.000000</td>\n",
       "      <td>0.000000</td>\n",
       "      <td>0.000000</td>\n",
       "      <td>0.000000</td>\n",
       "      <td>0.000000</td>\n",
       "      <td>0.000000</td>\n",
       "      <td>0.000000</td>\n",
       "      <td>0.000000</td>\n",
       "      <td>0.000000</td>\n",
       "      <td>0.000000</td>\n",
       "      <td>0.000000</td>\n",
       "      <td>0.000000</td>\n",
       "      <td>0.000000</td>\n",
       "    </tr>\n",
       "    <tr>\n",
       "      <th>25%</th>\n",
       "      <td>93.000000</td>\n",
       "      <td>1.000000</td>\n",
       "      <td>0.000000</td>\n",
       "      <td>0.000000</td>\n",
       "      <td>0.000000</td>\n",
       "      <td>0.000000</td>\n",
       "      <td>0.000000</td>\n",
       "      <td>0.000000</td>\n",
       "      <td>0.000000</td>\n",
       "      <td>0.000000</td>\n",
       "      <td>0.000000</td>\n",
       "      <td>0.000000</td>\n",
       "      <td>0.000000</td>\n",
       "      <td>0.000000</td>\n",
       "      <td>0.000000</td>\n",
       "      <td>0.000000</td>\n",
       "      <td>0.000000</td>\n",
       "      <td>0.000000</td>\n",
       "      <td>0.000000</td>\n",
       "      <td>0.000000</td>\n",
       "      <td>0.000000</td>\n",
       "      <td>0.000000</td>\n",
       "      <td>0.000000</td>\n",
       "      <td>0.000000</td>\n",
       "      <td>0.000000</td>\n",
       "    </tr>\n",
       "    <tr>\n",
       "      <th>50%</th>\n",
       "      <td>165.000000</td>\n",
       "      <td>1.000000</td>\n",
       "      <td>0.000000</td>\n",
       "      <td>0.000000</td>\n",
       "      <td>0.000000</td>\n",
       "      <td>0.000000</td>\n",
       "      <td>0.000000</td>\n",
       "      <td>0.000000</td>\n",
       "      <td>0.000000</td>\n",
       "      <td>1.000000</td>\n",
       "      <td>0.000000</td>\n",
       "      <td>0.000000</td>\n",
       "      <td>0.000000</td>\n",
       "      <td>0.000000</td>\n",
       "      <td>0.000000</td>\n",
       "      <td>0.000000</td>\n",
       "      <td>0.000000</td>\n",
       "      <td>0.000000</td>\n",
       "      <td>0.000000</td>\n",
       "      <td>0.000000</td>\n",
       "      <td>0.000000</td>\n",
       "      <td>0.000000</td>\n",
       "      <td>0.000000</td>\n",
       "      <td>0.000000</td>\n",
       "      <td>0.000000</td>\n",
       "    </tr>\n",
       "    <tr>\n",
       "      <th>75%</th>\n",
       "      <td>367.000000</td>\n",
       "      <td>5.000000</td>\n",
       "      <td>0.000000</td>\n",
       "      <td>0.000000</td>\n",
       "      <td>0.000000</td>\n",
       "      <td>0.000000</td>\n",
       "      <td>0.000000</td>\n",
       "      <td>0.000000</td>\n",
       "      <td>0.000000</td>\n",
       "      <td>1.000000</td>\n",
       "      <td>0.000000</td>\n",
       "      <td>0.000000</td>\n",
       "      <td>0.000000</td>\n",
       "      <td>0.000000</td>\n",
       "      <td>0.000000</td>\n",
       "      <td>0.000000</td>\n",
       "      <td>0.000000</td>\n",
       "      <td>0.000000</td>\n",
       "      <td>0.000000</td>\n",
       "      <td>0.000000</td>\n",
       "      <td>0.000000</td>\n",
       "      <td>0.000000</td>\n",
       "      <td>1.000000</td>\n",
       "      <td>0.000000</td>\n",
       "      <td>0.000000</td>\n",
       "    </tr>\n",
       "    <tr>\n",
       "      <th>max</th>\n",
       "      <td>2559.000000</td>\n",
       "      <td>74.000000</td>\n",
       "      <td>1.000000</td>\n",
       "      <td>1.000000</td>\n",
       "      <td>1.000000</td>\n",
       "      <td>1.000000</td>\n",
       "      <td>1.000000</td>\n",
       "      <td>1.000000</td>\n",
       "      <td>1.000000</td>\n",
       "      <td>1.000000</td>\n",
       "      <td>1.000000</td>\n",
       "      <td>1.000000</td>\n",
       "      <td>1.000000</td>\n",
       "      <td>1.000000</td>\n",
       "      <td>1.000000</td>\n",
       "      <td>1.000000</td>\n",
       "      <td>1.000000</td>\n",
       "      <td>1.000000</td>\n",
       "      <td>1.000000</td>\n",
       "      <td>1.000000</td>\n",
       "      <td>1.000000</td>\n",
       "      <td>1.000000</td>\n",
       "      <td>1.000000</td>\n",
       "      <td>1.000000</td>\n",
       "      <td>1.000000</td>\n",
       "    </tr>\n",
       "  </tbody>\n",
       "</table>\n",
       "</div>"
      ],
      "text/plain": [
       "           textlen      num_rep  anticipazione        causa     commento  \\\n",
       "count  3151.000000  3151.000000    3151.000000  3151.000000  3151.000000   \n",
       "mean    270.582355     3.853063       0.008886     0.050778     0.189146   \n",
       "std     250.384602     5.327526       0.093861     0.219578     0.391687   \n",
       "min      65.000000     0.000000       0.000000     0.000000     0.000000   \n",
       "25%      93.000000     1.000000       0.000000     0.000000     0.000000   \n",
       "50%     165.000000     1.000000       0.000000     0.000000     0.000000   \n",
       "75%     367.000000     5.000000       0.000000     0.000000     0.000000   \n",
       "max    2559.000000    74.000000       1.000000     1.000000     1.000000   \n",
       "\n",
       "          conferma  considerazione  contrapposizione  deresponsabilizzazione  \\\n",
       "count  3151.000000     3151.000000       3151.000000             3151.000000   \n",
       "mean      0.066328        0.046334          0.101872                0.031101   \n",
       "std       0.248894        0.210242          0.302528                0.173619   \n",
       "min       0.000000        0.000000          0.000000                0.000000   \n",
       "25%       0.000000        0.000000          0.000000                0.000000   \n",
       "50%       0.000000        0.000000          0.000000                0.000000   \n",
       "75%       0.000000        0.000000          0.000000                0.000000   \n",
       "max       1.000000        1.000000          1.000000                1.000000   \n",
       "\n",
       "       descrizione  dichiarazione di intenti  generalizzazione     giudizio  \\\n",
       "count  3151.000000               3151.000000       3151.000000  3151.000000   \n",
       "mean      0.570295                  0.081561          0.072675     0.173913   \n",
       "std       0.495113                  0.273739          0.259644     0.379095   \n",
       "min       0.000000                  0.000000          0.000000     0.000000   \n",
       "25%       0.000000                  0.000000          0.000000     0.000000   \n",
       "50%       1.000000                  0.000000          0.000000     0.000000   \n",
       "75%       1.000000                  0.000000          0.000000     0.000000   \n",
       "max       1.000000                  1.000000          1.000000     1.000000   \n",
       "\n",
       "       giustificazione  implicazione  non risposta     opinione  possibilità  \\\n",
       "count      3151.000000   3151.000000   3151.000000  3151.000000  3151.000000   \n",
       "mean          0.032053      0.077436      0.049191     0.104411     0.067598   \n",
       "std           0.176170      0.267324      0.216300     0.305842     0.251094   \n",
       "min           0.000000      0.000000      0.000000     0.000000     0.000000   \n",
       "25%           0.000000      0.000000      0.000000     0.000000     0.000000   \n",
       "50%           0.000000      0.000000      0.000000     0.000000     0.000000   \n",
       "75%           0.000000      0.000000      0.000000     0.000000     0.000000   \n",
       "max           1.000000      1.000000      1.000000     1.000000     1.000000   \n",
       "\n",
       "       prescrizione   previsione     proposta  ridimensionamento      sancire  \\\n",
       "count   3151.000000  3151.000000  3151.000000        3151.000000  3151.000000   \n",
       "mean       0.113615     0.108537     0.025706           0.099651     0.303078   \n",
       "std        0.317393     0.311107     0.158282           0.299582     0.459662   \n",
       "min        0.000000     0.000000     0.000000           0.000000     0.000000   \n",
       "25%        0.000000     0.000000     0.000000           0.000000     0.000000   \n",
       "50%        0.000000     0.000000     0.000000           0.000000     0.000000   \n",
       "75%        0.000000     0.000000     0.000000           0.000000     1.000000   \n",
       "max        1.000000     1.000000     1.000000           1.000000     1.000000   \n",
       "\n",
       "       specificazione  valutazione  \n",
       "count     3151.000000  3151.000000  \n",
       "mean         0.146303     0.182164  \n",
       "std          0.353466     0.386041  \n",
       "min          0.000000     0.000000  \n",
       "25%          0.000000     0.000000  \n",
       "50%          0.000000     0.000000  \n",
       "75%          0.000000     0.000000  \n",
       "max          1.000000     1.000000  "
      ]
     },
     "execution_count": 47,
     "metadata": {},
     "output_type": "execute_result"
    }
   ],
   "source": [
    "pd.set_option('max_columns', None)\n",
    "df1.describe()"
   ]
  },
  {
   "cell_type": "code",
   "execution_count": 48,
   "metadata": {
    "id": "5gvta6NSmMhK"
   },
   "outputs": [],
   "source": [
    "df2 = df1.drop(['repertoirs'], axis=1)"
   ]
  },
  {
   "cell_type": "code",
   "execution_count": 49,
   "metadata": {
    "colab": {
     "base_uri": "https://localhost:8080/"
    },
    "id": "3eI-Oec1hxXQ",
    "outputId": "d8cf47a6-fb41-4bfa-8956-221ed91ba2af"
   },
   "outputs": [
    {
     "data": {
      "text/plain": [
       "text                        \"Ha suscitato scandalo la proposta di Salvini ...\n",
       "textlen                                                                852605\n",
       "num_rep                                                                 12141\n",
       "anticipazione                                                              28\n",
       "causa                                                                     160\n",
       "commento                                                                  596\n",
       "conferma                                                                  209\n",
       "considerazione                                                            146\n",
       "contrapposizione                                                          321\n",
       "deresponsabilizzazione                                                     98\n",
       "descrizione                                                              1797\n",
       "dichiarazione di intenti                                                  257\n",
       "generalizzazione                                                          229\n",
       "giudizio                                                                  548\n",
       "giustificazione                                                           101\n",
       "implicazione                                                              244\n",
       "non risposta                                                              155\n",
       "opinione                                                                  329\n",
       "possibilità                                                               213\n",
       "prescrizione                                                              358\n",
       "previsione                                                                342\n",
       "proposta                                                                   81\n",
       "ridimensionamento                                                         314\n",
       "sancire                                                                   955\n",
       "specificazione                                                            461\n",
       "valutazione                                                               574\n",
       "dtype: object"
      ]
     },
     "execution_count": 49,
     "metadata": {},
     "output_type": "execute_result"
    }
   ],
   "source": [
    "df2.sum()"
   ]
  },
  {
   "cell_type": "code",
   "execution_count": 61,
   "metadata": {},
   "outputs": [
    {
     "data": {
      "text/plain": [
       "sancire                     5449\n",
       "commento                    4192\n",
       "descrizione                 3019\n",
       "giudizio                    2674\n",
       "valutazione                 1930\n",
       "prescrizione                1889\n",
       "contrapposizione            1376\n",
       "specificazione              1362\n",
       "opinione                    1310\n",
       "previsione                  1150\n",
       "non risposta                1095\n",
       "ridimensionamento           1081\n",
       "generalizzazione             962\n",
       "implicazione                 696\n",
       "conferma                     624\n",
       "dichiarazione di intenti     616\n",
       "deresponsabilizzazione       614\n",
       "possibilità                  602\n",
       "causa                        467\n",
       "giustificazione              428\n",
       "proposta                     245\n",
       "considerazione               236\n",
       "anticipazione                 49\n",
       "Name: Repertorio, dtype: int64"
      ]
     },
     "execution_count": 61,
     "metadata": {},
     "output_type": "execute_result"
    }
   ],
   "source": [
    "df.Repertorio.value_counts()"
   ]
  },
  {
   "cell_type": "code",
   "execution_count": 82,
   "metadata": {},
   "outputs": [],
   "source": [
    "gb = df.groupby('Repertorio')\n",
    "train_list = []\n",
    "val_list = []\n",
    "for x in gb.groups:\n",
    "    # Validation set creation\n",
    "    class_df = gb.get_group(x)\n",
    "    val = class_df.sample(frac=0.3)\n",
    "    train = pd.concat([class_df,val]).drop_duplicates(keep=False)\n",
    "\n",
    "    #train_list.append(train.head(500))\n",
    "    train_list.append(train)\n",
    "    val_list.append(val)\n",
    "\n",
    "train_df = pd.concat(train_list)\n",
    "test_val_df = pd.concat(val_list)"
   ]
  },
  {
   "cell_type": "code",
   "execution_count": 83,
   "metadata": {},
   "outputs": [],
   "source": [
    "gb = test_val.groupby('Repertorio')\n",
    "val_list = []\n",
    "test_list = []\n",
    "for x in gb.groups:\n",
    "    # Validation set creation\n",
    "    class_df = gb.get_group(x)\n",
    "    val = class_df.sample(frac=0.5)\n",
    "    test = pd.concat([class_df,val]).drop_duplicates(keep=False)\n",
    "\n",
    "    #train_list.append(train.head(500))\n",
    "    val_list.append(train)\n",
    "    test_list.append(val)\n",
    "\n",
    "test_df = pd.concat(test_list)\n",
    "val_df = pd.concat(val_list)"
   ]
  },
  {
   "cell_type": "code",
   "execution_count": 84,
   "metadata": {},
   "outputs": [
    {
     "data": {
      "text/plain": [
       "sancire                     801\n",
       "commento                    629\n",
       "descrizione                 462\n",
       "giudizio                    392\n",
       "valutazione                 305\n",
       "prescrizione                288\n",
       "contrapposizione            204\n",
       "opinione                    204\n",
       "specificazione              188\n",
       "previsione                  173\n",
       "non risposta                166\n",
       "ridimensionamento           158\n",
       "generalizzazione            142\n",
       "implicazione                102\n",
       "conferma                    100\n",
       "possibilità                  97\n",
       "dichiarazione di intenti     96\n",
       "deresponsabilizzazione       94\n",
       "causa                        67\n",
       "giustificazione              64\n",
       "proposta                     36\n",
       "considerazione               36\n",
       "anticipazione                 9\n",
       "Name: Repertorio, dtype: int64"
      ]
     },
     "execution_count": 84,
     "metadata": {},
     "output_type": "execute_result"
    }
   ],
   "source": [
    "test_df.Repertorio.value_counts()"
   ]
  },
  {
   "cell_type": "code",
   "execution_count": 105,
   "metadata": {},
   "outputs": [],
   "source": []
  },
  {
   "cell_type": "code",
   "execution_count": null,
   "metadata": {},
   "outputs": [],
   "source": []
  },
  {
   "cell_type": "code",
   "execution_count": null,
   "metadata": {},
   "outputs": [],
   "source": [
    "df = df[['Stralcio', 'Repertorio']]"
   ]
  },
  {
   "cell_type": "code",
   "execution_count": 106,
   "metadata": {},
   "outputs": [
    {
     "data": {
      "text/html": [
       "<div>\n",
       "<style scoped>\n",
       "    .dataframe tbody tr th:only-of-type {\n",
       "        vertical-align: middle;\n",
       "    }\n",
       "\n",
       "    .dataframe tbody tr th {\n",
       "        vertical-align: top;\n",
       "    }\n",
       "\n",
       "    .dataframe thead th {\n",
       "        text-align: right;\n",
       "    }\n",
       "</style>\n",
       "<table border=\"1\" class=\"dataframe\">\n",
       "  <thead>\n",
       "    <tr style=\"text-align: right;\">\n",
       "      <th></th>\n",
       "      <th>Stralcio</th>\n",
       "      <th>Repertorio</th>\n",
       "    </tr>\n",
       "  </thead>\n",
       "  <tbody>\n",
       "    <tr>\n",
       "      <th>count</th>\n",
       "      <td>32066</td>\n",
       "      <td>32066</td>\n",
       "    </tr>\n",
       "    <tr>\n",
       "      <th>unique</th>\n",
       "      <td>31847</td>\n",
       "      <td>23</td>\n",
       "    </tr>\n",
       "    <tr>\n",
       "      <th>top</th>\n",
       "      <td>Grazie</td>\n",
       "      <td>sancire</td>\n",
       "    </tr>\n",
       "    <tr>\n",
       "      <th>freq</th>\n",
       "      <td>20</td>\n",
       "      <td>5449</td>\n",
       "    </tr>\n",
       "  </tbody>\n",
       "</table>\n",
       "</div>"
      ],
      "text/plain": [
       "       Stralcio Repertorio\n",
       "count     32066      32066\n",
       "unique    31847         23\n",
       "top      Grazie    sancire\n",
       "freq         20       5449"
      ]
     },
     "execution_count": 106,
     "metadata": {},
     "output_type": "execute_result"
    }
   ],
   "source": [
    "df.describe()"
   ]
  },
  {
   "cell_type": "code",
   "execution_count": 107,
   "metadata": {
    "id": "2xjVvxOHlXMX"
   },
   "outputs": [],
   "source": [
    "test_val = df.sample(frac=0.30, random_state=100)\n",
    "train = pd.concat([df,test_val]).drop_duplicates(keep=False)"
   ]
  },
  {
   "cell_type": "code",
   "execution_count": 108,
   "metadata": {},
   "outputs": [
    {
     "data": {
      "text/plain": [
       "sancire                     1602\n",
       "commento                    1258\n",
       "descrizione                  925\n",
       "giudizio                     783\n",
       "valutazione                  610\n",
       "prescrizione                 575\n",
       "opinione                     409\n",
       "contrapposizione             407\n",
       "specificazione               377\n",
       "previsione                   346\n",
       "non risposta                 331\n",
       "ridimensionamento            317\n",
       "generalizzazione             283\n",
       "implicazione                 203\n",
       "conferma                     199\n",
       "possibilità                  194\n",
       "dichiarazione di intenti     192\n",
       "deresponsabilizzazione       187\n",
       "causa                        134\n",
       "giustificazione              127\n",
       "considerazione                72\n",
       "proposta                      71\n",
       "anticipazione                 18\n",
       "Name: Repertorio, dtype: int64"
      ]
     },
     "execution_count": 108,
     "metadata": {},
     "output_type": "execute_result"
    }
   ],
   "source": [
    "test_val.Repertorio.value_counts()"
   ]
  },
  {
   "cell_type": "code",
   "execution_count": 109,
   "metadata": {
    "id": "-Vzi-uMQn7TI"
   },
   "outputs": [],
   "source": [
    "test = test_val.sample(frac=0.50, random_state=102)\n",
    "val = pd.concat([test_val,test]).drop_duplicates(keep=False)"
   ]
  },
  {
   "cell_type": "code",
   "execution_count": 110,
   "metadata": {},
   "outputs": [
    {
     "data": {
      "text/plain": [
       "sancire                     805\n",
       "commento                    638\n",
       "descrizione                 464\n",
       "giudizio                    406\n",
       "valutazione                 299\n",
       "prescrizione                287\n",
       "contrapposizione            196\n",
       "opinione                    196\n",
       "specificazione              193\n",
       "previsione                  170\n",
       "non risposta                155\n",
       "ridimensionamento           149\n",
       "generalizzazione            128\n",
       "implicazione                112\n",
       "possibilità                 108\n",
       "deresponsabilizzazione      103\n",
       "dichiarazione di intenti     94\n",
       "conferma                     93\n",
       "causa                        69\n",
       "giustificazione              61\n",
       "considerazione               27\n",
       "proposta                     25\n",
       "anticipazione                10\n",
       "Name: Repertorio, dtype: int64"
      ]
     },
     "execution_count": 110,
     "metadata": {},
     "output_type": "execute_result"
    }
   ],
   "source": [
    "val.Repertorio.value_counts()"
   ]
  },
  {
   "cell_type": "code",
   "execution_count": 65,
   "metadata": {
    "colab": {
     "base_uri": "https://localhost:8080/"
    },
    "id": "jpbtw35hnKnY",
    "outputId": "83035871-82b4-4f53-a4ea-0df60da5030f"
   },
   "outputs": [
    {
     "name": "stderr",
     "output_type": "stream",
     "text": [
      "C:\\Users\\Anna\\AppData\\Local\\Temp/ipykernel_8444/3386245976.py:1: FutureWarning: Dropping of nuisance columns in DataFrame reductions (with 'numeric_only=None') is deprecated; in a future version this will raise TypeError.  Select only valid columns before calling the reduction.\n",
      "  val.sum()\n"
     ]
    },
    {
     "data": {
      "text/plain": [
       "Domanda                                                       0\n",
       "Stralcio      #Veneto Manifestazione No #Dad questa mattina ...\n",
       "Repertorio    descrizionesanciregiustificazionesancireprescr...\n",
       "stlen                                                     87748\n",
       "dtype: object"
      ]
     },
     "execution_count": 65,
     "metadata": {},
     "output_type": "execute_result"
    }
   ],
   "source": [
    "val.sum()"
   ]
  },
  {
   "cell_type": "code",
   "execution_count": 38,
   "metadata": {
    "colab": {
     "base_uri": "https://localhost:8080/"
    },
    "id": "j3y7Qz0foDc8",
    "outputId": "61dbc36e-223d-4bc2-d84c-64cf56676582"
   },
   "outputs": [
    {
     "data": {
      "text/plain": [
       "text                        I 9 studenti iscritti alla competizione nella ...\n",
       "textlen                                                                 52528\n",
       "num_rep                                                                  3003\n",
       "anticipazione                                                               3\n",
       "causa                                                                      22\n",
       "commento                                                                  482\n",
       "conferma                                                                   46\n",
       "considerazione                                                             19\n",
       "contrapposizione                                                          147\n",
       "deresponsabilizzazione                                                     53\n",
       "descrizione                                                               199\n",
       "dichiarazione di intenti                                                   32\n",
       "generalizzazione                                                          104\n",
       "giudizio                                                                  243\n",
       "giustificazione                                                            48\n",
       "implicazione                                                               52\n",
       "non risposta                                                              134\n",
       "opinione                                                                  116\n",
       "possibilità                                                                35\n",
       "prescrizione                                                              198\n",
       "previsione                                                                 76\n",
       "proposta                                                                   26\n",
       "ridimensionamento                                                          65\n",
       "sancire                                                                   518\n",
       "specificazione                                                             78\n",
       "valutazione                                                               170\n",
       "dtype: object"
      ]
     },
     "execution_count": 38,
     "metadata": {},
     "output_type": "execute_result"
    }
   ],
   "source": [
    "test.sum()"
   ]
  },
  {
   "cell_type": "code",
   "execution_count": 102,
   "metadata": {
    "colab": {
     "base_uri": "https://localhost:8080/",
     "height": 382
    },
    "id": "XqxNOz4rpjpv",
    "outputId": "83c9e6a3-2dc8-4c57-8547-d3915d5a1bc3"
   },
   "outputs": [
    {
     "data": {
      "text/html": [
       "<div>\n",
       "<style scoped>\n",
       "    .dataframe tbody tr th:only-of-type {\n",
       "        vertical-align: middle;\n",
       "    }\n",
       "\n",
       "    .dataframe tbody tr th {\n",
       "        vertical-align: top;\n",
       "    }\n",
       "\n",
       "    .dataframe thead th {\n",
       "        text-align: right;\n",
       "    }\n",
       "</style>\n",
       "<table border=\"1\" class=\"dataframe\">\n",
       "  <thead>\n",
       "    <tr style=\"text-align: right;\">\n",
       "      <th></th>\n",
       "      <th>stlen</th>\n",
       "    </tr>\n",
       "  </thead>\n",
       "  <tbody>\n",
       "    <tr>\n",
       "      <th>count</th>\n",
       "      <td>4796.000000</td>\n",
       "    </tr>\n",
       "    <tr>\n",
       "      <th>mean</th>\n",
       "      <td>18.093828</td>\n",
       "    </tr>\n",
       "    <tr>\n",
       "      <th>std</th>\n",
       "      <td>13.136881</td>\n",
       "    </tr>\n",
       "    <tr>\n",
       "      <th>min</th>\n",
       "      <td>1.000000</td>\n",
       "    </tr>\n",
       "    <tr>\n",
       "      <th>25%</th>\n",
       "      <td>8.000000</td>\n",
       "    </tr>\n",
       "    <tr>\n",
       "      <th>50%</th>\n",
       "      <td>15.000000</td>\n",
       "    </tr>\n",
       "    <tr>\n",
       "      <th>75%</th>\n",
       "      <td>25.000000</td>\n",
       "    </tr>\n",
       "    <tr>\n",
       "      <th>max</th>\n",
       "      <td>64.000000</td>\n",
       "    </tr>\n",
       "  </tbody>\n",
       "</table>\n",
       "</div>"
      ],
      "text/plain": [
       "             stlen\n",
       "count  4796.000000\n",
       "mean     18.093828\n",
       "std      13.136881\n",
       "min       1.000000\n",
       "25%       8.000000\n",
       "50%      15.000000\n",
       "75%      25.000000\n",
       "max      64.000000"
      ]
     },
     "execution_count": 102,
     "metadata": {},
     "output_type": "execute_result"
    }
   ],
   "source": [
    "val.describe()"
   ]
  },
  {
   "cell_type": "code",
   "execution_count": null,
   "metadata": {
    "colab": {
     "base_uri": "https://localhost:8080/"
    },
    "id": "lWFvwLzNm3w8",
    "outputId": "edc8bdec-6ded-4702-c057-8d0b5a7ca334"
   },
   "outputs": [
    {
     "data": {
      "text/plain": [
       "text                        Per favore, mettete qualche controllo in più n...\n",
       "textlen                                                                240026\n",
       "num_rep                                                                  8723\n",
       "anticipazione                                                              10\n",
       "causa                                                                     118\n",
       "commento                                                                 1187\n",
       "conferma                                                                  151\n",
       "considerazione                                                             66\n",
       "contrapposizione                                                          347\n",
       "deresponsabilizzazione                                                    164\n",
       "descrizione                                                               846\n",
       "dichiarazione di intenti                                                  115\n",
       "generalizzazione                                                          304\n",
       "giudizio                                                                  638\n",
       "giustificazione                                                           112\n",
       "implicazione                                                              159\n",
       "non risposta                                                              303\n",
       "opinione                                                                  324\n",
       "possibilità                                                               117\n",
       "prescrizione                                                              462\n",
       "previsione                                                                244\n",
       "proposta                                                                   54\n",
       "ridimensionamento                                                         204\n",
       "sancire                                                                  1216\n",
       "specificazione                                                            270\n",
       "valutazione                                                               470\n",
       "dtype: object"
      ]
     },
     "execution_count": 97,
     "metadata": {},
     "output_type": "execute_result"
    }
   ],
   "source": [
    "test_val.sum()"
   ]
  },
  {
   "cell_type": "code",
   "execution_count": null,
   "metadata": {
    "colab": {
     "base_uri": "https://localhost:8080/"
    },
    "id": "hcc_5UubodS_",
    "outputId": "08907a4e-5685-4482-f8be-902d1d56eea7"
   },
   "outputs": [
    {
     "data": {
      "text/plain": [
       "text                        - Zaia, manca il personale nelle case di ripos...\n",
       "textlen                                                                118959\n",
       "num_rep                                                                  4449\n",
       "anticipazione                                                               7\n",
       "causa                                                                      70\n",
       "commento                                                                  581\n",
       "conferma                                                                   80\n",
       "considerazione                                                             30\n",
       "contrapposizione                                                          193\n",
       "deresponsabilizzazione                                                     81\n",
       "descrizione                                                               410\n",
       "dichiarazione di intenti                                                   55\n",
       "generalizzazione                                                          155\n",
       "giudizio                                                                  319\n",
       "giustificazione                                                            57\n",
       "implicazione                                                               77\n",
       "non risposta                                                              153\n",
       "opinione                                                                  172\n",
       "possibilità                                                                53\n",
       "prescrizione                                                              232\n",
       "previsione                                                                122\n",
       "proposta                                                                   26\n",
       "ridimensionamento                                                         116\n",
       "sancire                                                                   621\n",
       "specificazione                                                            152\n",
       "valutazione                                                               236\n",
       "dtype: object"
      ]
     },
     "execution_count": 106,
     "metadata": {},
     "output_type": "execute_result"
    }
   ],
   "source": [
    "val.sum()"
   ]
  },
  {
   "cell_type": "code",
   "execution_count": 112,
   "metadata": {
    "colab": {
     "base_uri": "https://localhost:8080/",
     "height": 635
    },
    "id": "eSlrseWlvJ6r",
    "outputId": "1ea5a7dd-8a33-49ac-db29-8218eb0c5708"
   },
   "outputs": [
    {
     "data": {
      "text/html": [
       "<div>\n",
       "<style scoped>\n",
       "    .dataframe tbody tr th:only-of-type {\n",
       "        vertical-align: middle;\n",
       "    }\n",
       "\n",
       "    .dataframe tbody tr th {\n",
       "        vertical-align: top;\n",
       "    }\n",
       "\n",
       "    .dataframe thead th {\n",
       "        text-align: right;\n",
       "    }\n",
       "</style>\n",
       "<table border=\"1\" class=\"dataframe\">\n",
       "  <thead>\n",
       "    <tr style=\"text-align: right;\">\n",
       "      <th></th>\n",
       "      <th>Stralcio</th>\n",
       "      <th>Repertorio</th>\n",
       "    </tr>\n",
       "  </thead>\n",
       "  <tbody>\n",
       "    <tr>\n",
       "      <th>0</th>\n",
       "      <td>Dunque vediamo se ho capito:</td>\n",
       "      <td>dichiarazione di intenti</td>\n",
       "    </tr>\n",
       "    <tr>\n",
       "      <th>1</th>\n",
       "      <td>Conte le canta a Salvini e alla Meloni</td>\n",
       "      <td>sancire</td>\n",
       "    </tr>\n",
       "    <tr>\n",
       "      <th>2</th>\n",
       "      <td>questi reagiscono e le cantano a loro volta a ...</td>\n",
       "      <td>giustificazione</td>\n",
       "    </tr>\n",
       "    <tr>\n",
       "      <th>4</th>\n",
       "      <td>Siamo tornati per un attimo alla normalità:</td>\n",
       "      <td>commento</td>\n",
       "    </tr>\n",
       "    <tr>\n",
       "      <th>5</th>\n",
       "      <td>meraviglia assoluta!</td>\n",
       "      <td>giudizio</td>\n",
       "    </tr>\n",
       "  </tbody>\n",
       "</table>\n",
       "</div>"
      ],
      "text/plain": [
       "                                            Stralcio                Repertorio\n",
       "0                       Dunque vediamo se ho capito:  dichiarazione di intenti\n",
       "1             Conte le canta a Salvini e alla Meloni                   sancire\n",
       "2  questi reagiscono e le cantano a loro volta a ...           giustificazione\n",
       "4        Siamo tornati per un attimo alla normalità:                  commento\n",
       "5                               meraviglia assoluta!                  giudizio"
      ]
     },
     "execution_count": 112,
     "metadata": {},
     "output_type": "execute_result"
    }
   ],
   "source": [
    "train.head()"
   ]
  },
  {
   "cell_type": "code",
   "execution_count": 111,
   "metadata": {
    "id": "utaOHZ9qqj-L"
   },
   "outputs": [],
   "source": [
    "train.to_csv(\"train64.csv\", index=False)\n",
    "val.to_csv(\"val64.csv\", index=False)\n",
    "test.to_csv(\"test64.csv\", index=False)"
   ]
  },
  {
   "cell_type": "code",
   "execution_count": null,
   "metadata": {
    "id": "tp454Dzqk98e"
   },
   "outputs": [],
   "source": [
    "df1.to_csv(\"multi_rep.csv\", index=False)"
   ]
  },
  {
   "cell_type": "code",
   "execution_count": null,
   "metadata": {
    "colab": {
     "base_uri": "https://localhost:8080/"
    },
    "id": "h0RT0_hfswwO",
    "outputId": "91c64c71-9d39-4be6-f063-52d6b629136a"
   },
   "outputs": [
    {
     "data": {
      "text/plain": [
       "array([514.25      ,  39.41176471,   2.79558011,  28.11016949,\n",
       "        65.91558442,  11.50606796,  24.44444444,   4.18360161,\n",
       "        36.20216606,  16.23244147,   5.80647292,  39.25390625,\n",
       "        27.7849162 ,  13.91316932,  13.3125    ,  32.45779221,\n",
       "         8.39380128,  16.890625  ,  68.62837838,  20.60377358,\n",
       "         2.5682133 ,  16.49575552,   8.56824513])"
      ]
     },
     "execution_count": 116,
     "metadata": {},
     "output_type": "execute_result"
    }
   ],
   "source": [
    "import numpy as np\n",
    "df3 = train.drop(['text', 'textlen', 'num_rep'], axis=1)\n",
    "np.array((1 - df3.mean()) /  df3.mean())"
   ]
  },
  {
   "cell_type": "code",
   "execution_count": null,
   "metadata": {
    "colab": {
     "base_uri": "https://localhost:8080/"
    },
    "id": "4Uqi9qvq2fuU",
    "outputId": "f8f47209-f9b7-45a2-87e0-66e37706c2bb"
   },
   "outputs": [
    {
     "data": {
      "text/plain": [
       "anticipazione               514.250000\n",
       "causa                        39.411765\n",
       "commento                      2.795580\n",
       "conferma                     28.110169\n",
       "considerazione               65.915584\n",
       "contrapposizione             11.506068\n",
       "deresponsabilizzazione       24.444444\n",
       "descrizione                   4.183602\n",
       "dichiarazione di intenti     36.202166\n",
       "generalizzazione             16.232441\n",
       "giudizio                      5.806473\n",
       "giustificazione              39.253906\n",
       "implicazione                 27.784916\n",
       "non risposta                 13.913169\n",
       "opinione                     13.312500\n",
       "possibilità                  32.457792\n",
       "prescrizione                  8.393801\n",
       "previsione                   16.890625\n",
       "proposta                     68.628378\n",
       "ridimensionamento            20.603774\n",
       "sancire                       2.568213\n",
       "specificazione               16.495756\n",
       "valutazione                   8.568245\n",
       "dtype: float64"
      ]
     },
     "execution_count": 120,
     "metadata": {},
     "output_type": "execute_result"
    }
   ],
   "source": [
    "(len(df3) - df3.sum()) / df3.sum()"
   ]
  }
 ],
 "metadata": {
  "colab": {
   "provenance": []
  },
  "kernelspec": {
   "display_name": "Python 3 (ipykernel)",
   "language": "python",
   "name": "python3"
  },
  "language_info": {
   "codemirror_mode": {
    "name": "ipython",
    "version": 3
   },
   "file_extension": ".py",
   "mimetype": "text/x-python",
   "name": "python",
   "nbconvert_exporter": "python",
   "pygments_lexer": "ipython3",
   "version": "3.8.10"
  }
 },
 "nbformat": 4,
 "nbformat_minor": 1
}
